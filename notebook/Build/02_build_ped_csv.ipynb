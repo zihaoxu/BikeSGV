{
 "cells": [
  {
   "cell_type": "code",
   "execution_count": 1,
   "metadata": {},
   "outputs": [],
   "source": [
    "import pandas as pd\n",
    "import numpy as np\n",
    "import matplotlib.pyplot as plt\n",
    "import seaborn as sns\n",
    "\n",
    "pd.set_option('max_column', 100)"
   ]
  },
  {
   "cell_type": "code",
   "execution_count": 2,
   "metadata": {},
   "outputs": [],
   "source": [
    "raw_path = '/Users/zihaoxu/R_repos/sgv_bike/datasets/raw/'\n",
    "mst_path = '/Users/zihaoxu/R_repos/sgv_bike/datasets/mst/'"
   ]
  },
  {
   "cell_type": "code",
   "execution_count": 3,
   "metadata": {},
   "outputs": [],
   "source": [
    "################## Helper funcs ##################\n",
    "\n",
    "# Fill columns with the class mode\n",
    "def fill_w_mode(df, col):\n",
    "    mode = df[col].value_counts().index[0]\n",
    "    print(\"Mode for \"+col+\":\", mode)\n",
    "    df[col] = df[col].fillna(mode)\n",
    "    return df\n",
    "\n",
    "# For other_var1 and other_var2\n",
    "def clean_entry(df, col):\n",
    "    df[col] = df[col].str.lower()\n",
    "    df[col] = df[col].str.strip()\n",
    "    df[col] = df[col].str.replace(\" - \", \"_\")\n",
    "    df[col] = df[col].str.replace(\"0\", \"none\")\n",
    "    df[col] = df[col].str.replace(\" \", \"_\")\n",
    "    return df"
   ]
  },
  {
   "cell_type": "code",
   "execution_count": 4,
   "metadata": {},
   "outputs": [
    {
     "data": {
      "text/plain": [
       "(2648, 34)"
      ]
     },
     "execution_count": 4,
     "metadata": {},
     "output_type": "execute_result"
    }
   ],
   "source": [
    "################## Load in the data set ##################  \n",
    "df = pd.read_csv(raw_path + 'ped.csv')\n",
    "df.index = range(len(df))\n",
    "df.shape"
   ]
  },
  {
   "cell_type": "code",
   "execution_count": 5,
   "metadata": {},
   "outputs": [],
   "source": [
    "# df.isnull().sum()"
   ]
  },
  {
   "cell_type": "code",
   "execution_count": 6,
   "metadata": {},
   "outputs": [
    {
     "name": "stdout",
     "output_type": "stream",
     "text": [
      "Number of cols with nan: 21\n",
      "Mode for landuse: residentialCommercial\n",
      "Mode for road_class: minorArterial\n",
      "Number of cols with nan: 14\n"
     ]
    }
   ],
   "source": [
    "################## Fixing columns with NaNs ################## \n",
    "print('Number of cols with nan:', np.sum(df.isnull().sum() != 0))\n",
    "\n",
    "# Fill with class mode for landuse, road_class\n",
    "df = fill_w_mode(df, 'landuse')\n",
    "df = fill_w_mode(df, 'road_class')\n",
    "\n",
    "# Fill with 'none' for unusual, bikewaytype_options, other_var2, landuse\n",
    "for col in ['street1', 'street2', 'street3', 'weekday', 'other_var1', 'other_var2', 'unusual', 'bikewaytype_options']:\n",
    "    df[col] = df[col].fillna('none')\n",
    "    \n",
    "# Fill with 0 for count_bikesonsidewalks\n",
    "print('Number of cols with nan:', np.sum(df.isnull().sum() != 0))"
   ]
  },
  {
   "cell_type": "code",
   "execution_count": 7,
   "metadata": {},
   "outputs": [
    {
     "name": "stdout",
     "output_type": "stream",
     "text": [
      "['intervalid', 'location_id', 'street1', 'street2', 'street3', 'latitude', 'longitude', 'date', 'weekday', 'period_begin', 'period_end', 'interval_begin', 'ns', 'sn', 'ew', 'we', 'specialneeds', 'skate', 'child', 'other_var1', 'other_var2', 'other_var1_count', 'other_var2_count', 'count_method', 'raining', 'unusual', 'bikewaytype', 'bikewaytype_options', 'road_class', 'speed_limit', 'landuse', 'pk_dataset_id', 'dataset_name', 'createdatetime']\n"
     ]
    }
   ],
   "source": [
    "print(list(df))"
   ]
  },
  {
   "cell_type": "code",
   "execution_count": 8,
   "metadata": {},
   "outputs": [
    {
     "data": {
      "text/plain": [
       "none         1496\n",
       "Female       1080\n",
       "Cane           24\n",
       "female         16\n",
       "Dog            16\n",
       "No Helmet       8\n",
       "Walker          8\n",
       "Name: other_var1, dtype: int64"
      ]
     },
     "execution_count": 8,
     "metadata": {},
     "output_type": "execute_result"
    }
   ],
   "source": [
    "df['other_var1'].value_counts()"
   ]
  },
  {
   "cell_type": "code",
   "execution_count": 9,
   "metadata": {},
   "outputs": [
    {
     "name": "stdout",
     "output_type": "stream",
     "text": [
      "ns <= totol_count:  True\n",
      "sn <= totol_count:  True\n",
      "ew <= totol_count:  True\n",
      "we <= totol_count:  True\n",
      "specialneeds <= totol_count:  True\n",
      "skate <= totol_count:  True\n",
      "child <= totol_count:  True\n"
     ]
    },
    {
     "data": {
      "text/plain": [
       "<matplotlib.axes._subplots.AxesSubplot at 0x10dbf99e8>"
      ]
     },
     "execution_count": 9,
     "metadata": {},
     "output_type": "execute_result"
    },
    {
     "data": {
      "image/png": "[encoded data removed]",
      "text/plain": [
       "<matplotlib.figure.Figure at 0x10dbf9240>"
      ]
     },
     "metadata": {},
     "output_type": "display_data"
    }
   ],
   "source": [
    "################## Create new columns ################## \n",
    "# total_count: total number of bike riders\n",
    "df['total_count'] = [a+b+c+d for a,b,c,d in zip(df['ns'], df['sn'], df['ew'], df['we'])]\n",
    "\n",
    "# Correct for human errors\n",
    "df['total_count'] = [max(a,b,c,d) for a,b,c,d in zip(df['total_count'], df['specialneeds'], df['skate'], df['child'])]\n",
    "\n",
    "# Sanity check, total_cuont is the largetest among all count columns\n",
    "count_cols = ['ns', 'sn', 'ew', 'we', 'specialneeds', 'skate', 'child']\n",
    "for col in count_cols:\n",
    "    print(col + \" <= totol_count: \", len(df[df['total_count'] < df[col]]) == 0)\n",
    "sns.distplot(df['total_count'])"
   ]
  },
  {
   "cell_type": "code",
   "execution_count": 10,
   "metadata": {},
   "outputs": [
    {
     "name": "stdout",
     "output_type": "stream",
     "text": [
      "none         1496\n",
      "female       1096\n",
      "cane           24\n",
      "dog            16\n",
      "walker          8\n",
      "no_helmet       8\n",
      "Name: other_var1, dtype: int64\n",
      "none             1560\n",
      "on_the_street     712\n",
      "on_street         176\n",
      "street             88\n",
      "child              80\n",
      "on-street1         16\n",
      "cane               16\n",
      "Name: other_var2, dtype: int64\n"
     ]
    }
   ],
   "source": [
    "# Clean entries of other_var1 and other_var2\n",
    "df = clean_entry(df, 'other_var1')\n",
    "df = clean_entry(df, 'other_var2')\n",
    "\n",
    "# Print our the distinct values and counts\n",
    "print(df['other_var1'].value_counts())\n",
    "print(df['other_var2'].value_counts())"
   ]
  },
  {
   "cell_type": "code",
   "execution_count": 11,
   "metadata": {},
   "outputs": [],
   "source": [
    "# We need to create female, cane, dog, on_street, and fix child; it is unclear what walker and no_helmet means...\n",
    "df['female'] = np.where(df['other_var1'] == 'female', df['other_var1_count'], 0)\n",
    "df['cane'] = np.where(df['other_var1'] == 'cane', df['other_var1_count'], 0)\n",
    "df['cane'] = np.where((df['other_var2'] == 'cane'), df['other_var2_count'], df['cane'])\n",
    "df['dog'] = np.where(df['other_var1'] == 'dog', df['other_var1_count'], 0)\n",
    "df['on_street'] = np.where((df['other_var2'] == 'on_the_street') | (df['other_var2'] == 'on_street') | (df['other_var2'] == 'street'),\n",
    "                           df['other_var2_count'], 0)\n",
    "df['on_street'] = np.where(df['other_var2'] == 'on-street1', 1, df['on_street'])\n",
    "df['child'] = np.where(df['other_var2'] == 'chile', df['other_var2_count'], df['child'])"
   ]
  },
  {
   "cell_type": "code",
   "execution_count": 12,
   "metadata": {},
   "outputs": [
    {
     "data": {
      "text/html": [
       "<div>\n",
       "<style scoped>\n",
       "    .dataframe tbody tr th:only-of-type {\n",
       "        vertical-align: middle;\n",
       "    }\n",
       "\n",
       "    .dataframe tbody tr th {\n",
       "        vertical-align: top;\n",
       "    }\n",
       "\n",
       "    .dataframe thead th {\n",
       "        text-align: right;\n",
       "    }\n",
       "</style>\n",
       "<table border=\"1\" class=\"dataframe\">\n",
       "  <thead>\n",
       "    <tr style=\"text-align: right;\">\n",
       "      <th></th>\n",
       "      <th>female</th>\n",
       "      <th>cane</th>\n",
       "      <th>dog</th>\n",
       "      <th>on_street</th>\n",
       "      <th>other_var1</th>\n",
       "      <th>other_var1_count</th>\n",
       "      <th>other_var2</th>\n",
       "      <th>other_var2_count</th>\n",
       "    </tr>\n",
       "  </thead>\n",
       "  <tbody>\n",
       "    <tr>\n",
       "      <th>2643</th>\n",
       "      <td>0.0</td>\n",
       "      <td>0.0</td>\n",
       "      <td>0.0</td>\n",
       "      <td>0.0</td>\n",
       "      <td>female</td>\n",
       "      <td>0.0</td>\n",
       "      <td>street</td>\n",
       "      <td>0.0</td>\n",
       "    </tr>\n",
       "    <tr>\n",
       "      <th>2644</th>\n",
       "      <td>1.0</td>\n",
       "      <td>0.0</td>\n",
       "      <td>0.0</td>\n",
       "      <td>0.0</td>\n",
       "      <td>female</td>\n",
       "      <td>1.0</td>\n",
       "      <td>street</td>\n",
       "      <td>0.0</td>\n",
       "    </tr>\n",
       "    <tr>\n",
       "      <th>2645</th>\n",
       "      <td>2.0</td>\n",
       "      <td>0.0</td>\n",
       "      <td>0.0</td>\n",
       "      <td>0.0</td>\n",
       "      <td>female</td>\n",
       "      <td>2.0</td>\n",
       "      <td>street</td>\n",
       "      <td>0.0</td>\n",
       "    </tr>\n",
       "    <tr>\n",
       "      <th>2646</th>\n",
       "      <td>0.0</td>\n",
       "      <td>0.0</td>\n",
       "      <td>0.0</td>\n",
       "      <td>0.0</td>\n",
       "      <td>female</td>\n",
       "      <td>0.0</td>\n",
       "      <td>street</td>\n",
       "      <td>0.0</td>\n",
       "    </tr>\n",
       "    <tr>\n",
       "      <th>2647</th>\n",
       "      <td>0.0</td>\n",
       "      <td>0.0</td>\n",
       "      <td>0.0</td>\n",
       "      <td>0.0</td>\n",
       "      <td>female</td>\n",
       "      <td>0.0</td>\n",
       "      <td>street</td>\n",
       "      <td>0.0</td>\n",
       "    </tr>\n",
       "  </tbody>\n",
       "</table>\n",
       "</div>"
      ],
      "text/plain": [
       "      female  cane  dog  on_street other_var1  other_var1_count other_var2  \\\n",
       "2643     0.0   0.0  0.0        0.0     female               0.0     street   \n",
       "2644     1.0   0.0  0.0        0.0     female               1.0     street   \n",
       "2645     2.0   0.0  0.0        0.0     female               2.0     street   \n",
       "2646     0.0   0.0  0.0        0.0     female               0.0     street   \n",
       "2647     0.0   0.0  0.0        0.0     female               0.0     street   \n",
       "\n",
       "      other_var2_count  \n",
       "2643               0.0  \n",
       "2644               0.0  \n",
       "2645               0.0  \n",
       "2646               0.0  \n",
       "2647               0.0  "
      ]
     },
     "execution_count": 12,
     "metadata": {},
     "output_type": "execute_result"
    }
   ],
   "source": [
    "# Sanity check\n",
    "df[['female', 'cane', 'dog', 'on_street', 'other_var1', 'other_var1_count', 'other_var2', 'other_var2_count']].tail(5)"
   ]
  },
  {
   "cell_type": "code",
   "execution_count": 13,
   "metadata": {},
   "outputs": [],
   "source": [
    "# Drop 'other_var1', 'other_var1_count', 'other_var2', 'other_var2_count'\n",
    "df = df.drop(['other_var1', 'other_var1_count', 'other_var2', 'other_var2_count'], 1)"
   ]
  },
  {
   "cell_type": "code",
   "execution_count": 14,
   "metadata": {},
   "outputs": [
    {
     "data": {
      "text/plain": [
       "BikeSGV Glendora 2016               216\n",
       "BikeSGV SEM                         209\n",
       "BikeSGV Duarte                      184\n",
       "BikeSGV La Verne                    168\n",
       "BikeSGV Pasadena 2016               152\n",
       "BikeSGV Irwindale                   144\n",
       "BikeSGV Altadena                    144\n",
       "BikeSGV Pomona                      128\n",
       "BikeSGV Mt. SAC/Cal Poly/Walnut     128\n",
       "BikeSGV Covina                      128\n",
       "BikeSGV Arcadia                      96\n",
       "BikeSGV West Covina 2016             96\n",
       "BikeSGV Rowland Heights 2017         96\n",
       "BikeSGV La Puente                    80\n",
       "BikeSGV Temple City                  72\n",
       "BikeSGV Baldwin Park 2017            72\n",
       "BikeSGV El Monte 2016                72\n",
       "BikeSGV E. Pasadena                  72\n",
       "BikeSGV Azusa 2016                   58\n",
       "BikeSGV Azusa 2017                   49\n",
       "BikeSGV Hacienda Height              48\n",
       "BikeSGV Claremont 2017               48\n",
       "Bike SGV S. Pasadena 2017            24\n",
       "BikeSGV Puente Hills (Park Area)     24\n",
       "BikeSGVMPK                           16\n",
       "BikeSGV Baldwin Park 2016            16\n",
       "BikeSGV Azusa 2024                    2\n",
       "BikeSGV Azusa 2020                    2\n",
       "BikeSGV Azusa 2022                    2\n",
       "BikeSGV Azusa 2019                    2\n",
       "BikeSGV Azusa 2023                    2\n",
       "BikeSGV Azusa 2021                    2\n",
       "BikeSGV Azusa 2018                    1\n",
       "Name: dataset_name, dtype: int64"
      ]
     },
     "execution_count": 14,
     "metadata": {},
     "output_type": "execute_result"
    }
   ],
   "source": [
    "df['dataset_name'].value_counts()"
   ]
  },
  {
   "cell_type": "code",
   "execution_count": 15,
   "metadata": {},
   "outputs": [
    {
     "data": {
      "text/plain": [
       "Glendora                    216\n",
       "SEM                         209\n",
       "Duarte                      184\n",
       "La Verne                    168\n",
       "Pasadena                    152\n",
       "Irwindale                   144\n",
       "Altadena                    144\n",
       "Covina                      128\n",
       "Pomona                      128\n",
       "Mt. SAC/Cal Poly/Walnut     128\n",
       "Azusa                       120\n",
       "West Covina                  96\n",
       "Rowland Heights              96\n",
       "Arcadia                      96\n",
       "Baldwin Park                 88\n",
       "La Puente                    80\n",
       "Temple City                  72\n",
       "E. Pasadena                  72\n",
       "El Monte                     72\n",
       "Claremont                    48\n",
       "Hacienda Height              48\n",
       "S. Pasadena                  24\n",
       "Puente Hills (Park Area)     24\n",
       "MPK                          16\n",
       "Name: city, dtype: int64"
      ]
     },
     "execution_count": 15,
     "metadata": {},
     "output_type": "execute_result"
    }
   ],
   "source": [
    "# Create column city\n",
    "for pattern in ['BikeSGV', 'Bike SGV', '2010'] + [' '+ str(i) for i in range(2016, 2025)]:\n",
    "    df['dataset_name'] = df['dataset_name'].str.replace(pattern, '')\n",
    "df['dataset_name'] = df['dataset_name'].str.strip()\n",
    "df = df.rename(columns = {'dataset_name' : 'city'})\n",
    "df['city'].value_counts()"
   ]
  },
  {
   "cell_type": "code",
   "execution_count": 16,
   "metadata": {},
   "outputs": [
    {
     "name": "stdout",
     "output_type": "stream",
     "text": [
      "female <= totol_count:  True\n",
      "cane <= totol_count:  True\n",
      "dog <= totol_count:  True\n",
      "on_street <= totol_count:  True\n",
      "child <= totol_count:  True\n"
     ]
    }
   ],
   "source": [
    "# Replace total_count with value of the numeric columns if the latter is larger\n",
    "num_cols = ['female', 'cane', 'dog', 'on_street', 'child']\n",
    "for col in num_cols:\n",
    "    print(col + \" <= totol_count: \", len(df[df['total_count'] < df[col]]) == 0)"
   ]
  },
  {
   "cell_type": "code",
   "execution_count": 17,
   "metadata": {},
   "outputs": [
    {
     "data": {
      "text/html": [
       "<div>\n",
       "<style scoped>\n",
       "    .dataframe tbody tr th:only-of-type {\n",
       "        vertical-align: middle;\n",
       "    }\n",
       "\n",
       "    .dataframe tbody tr th {\n",
       "        vertical-align: top;\n",
       "    }\n",
       "\n",
       "    .dataframe thead th {\n",
       "        text-align: right;\n",
       "    }\n",
       "</style>\n",
       "<table border=\"1\" class=\"dataframe\">\n",
       "  <thead>\n",
       "    <tr style=\"text-align: right;\">\n",
       "      <th></th>\n",
       "      <th>intervalid</th>\n",
       "      <th>location_id</th>\n",
       "      <th>street1</th>\n",
       "      <th>street2</th>\n",
       "      <th>street3</th>\n",
       "      <th>latitude</th>\n",
       "      <th>longitude</th>\n",
       "      <th>date</th>\n",
       "      <th>weekday</th>\n",
       "      <th>period_begin</th>\n",
       "      <th>period_end</th>\n",
       "      <th>interval_begin</th>\n",
       "      <th>ns</th>\n",
       "      <th>sn</th>\n",
       "      <th>ew</th>\n",
       "      <th>we</th>\n",
       "      <th>specialneeds</th>\n",
       "      <th>skate</th>\n",
       "      <th>child</th>\n",
       "      <th>count_method</th>\n",
       "      <th>raining</th>\n",
       "      <th>unusual</th>\n",
       "      <th>bikewaytype</th>\n",
       "      <th>bikewaytype_options</th>\n",
       "      <th>road_class</th>\n",
       "      <th>speed_limit</th>\n",
       "      <th>landuse</th>\n",
       "      <th>pk_dataset_id</th>\n",
       "      <th>city</th>\n",
       "      <th>createdatetime</th>\n",
       "      <th>total_count</th>\n",
       "      <th>female</th>\n",
       "      <th>cane</th>\n",
       "      <th>dog</th>\n",
       "      <th>on_street</th>\n",
       "    </tr>\n",
       "  </thead>\n",
       "  <tbody>\n",
       "    <tr>\n",
       "      <th>0</th>\n",
       "      <td>17560.0</td>\n",
       "      <td>1025.0</td>\n",
       "      <td>Durfee Ave.</td>\n",
       "      <td>Santa Anita Ave.</td>\n",
       "      <td>Peck Rd.</td>\n",
       "      <td>34.035943</td>\n",
       "      <td>-118.039993</td>\n",
       "      <td>12-03-2016</td>\n",
       "      <td>Saturday</td>\n",
       "      <td>11:00 AM</td>\n",
       "      <td>1:00 AM</td>\n",
       "      <td>11:00 AM</td>\n",
       "      <td>0</td>\n",
       "      <td>0</td>\n",
       "      <td>4</td>\n",
       "      <td>7</td>\n",
       "      <td>0</td>\n",
       "      <td>1</td>\n",
       "      <td>2.0</td>\n",
       "      <td>manual_in_house</td>\n",
       "      <td>no</td>\n",
       "      <td>none</td>\n",
       "      <td>none</td>\n",
       "      <td>none</td>\n",
       "      <td>minorArterial</td>\n",
       "      <td>40.0</td>\n",
       "      <td>neighborhoodRetail</td>\n",
       "      <td>133.0</td>\n",
       "      <td>SEM</td>\n",
       "      <td>2017-07-17 15:08:00</td>\n",
       "      <td>11</td>\n",
       "      <td>0.0</td>\n",
       "      <td>0.0</td>\n",
       "      <td>0.0</td>\n",
       "      <td>0.0</td>\n",
       "    </tr>\n",
       "    <tr>\n",
       "      <th>1</th>\n",
       "      <td>17561.0</td>\n",
       "      <td>1025.0</td>\n",
       "      <td>Durfee Ave.</td>\n",
       "      <td>Santa Anita Ave.</td>\n",
       "      <td>Peck Rd.</td>\n",
       "      <td>34.035943</td>\n",
       "      <td>-118.039993</td>\n",
       "      <td>12-03-2016</td>\n",
       "      <td>Saturday</td>\n",
       "      <td>11:00 AM</td>\n",
       "      <td>1:00 AM</td>\n",
       "      <td>11:15 AM</td>\n",
       "      <td>0</td>\n",
       "      <td>0</td>\n",
       "      <td>0</td>\n",
       "      <td>0</td>\n",
       "      <td>0</td>\n",
       "      <td>0</td>\n",
       "      <td>0.0</td>\n",
       "      <td>manual_in_house</td>\n",
       "      <td>no</td>\n",
       "      <td>none</td>\n",
       "      <td>none</td>\n",
       "      <td>none</td>\n",
       "      <td>minorArterial</td>\n",
       "      <td>40.0</td>\n",
       "      <td>neighborhoodRetail</td>\n",
       "      <td>133.0</td>\n",
       "      <td>SEM</td>\n",
       "      <td>2017-07-17 15:08:00</td>\n",
       "      <td>0</td>\n",
       "      <td>0.0</td>\n",
       "      <td>0.0</td>\n",
       "      <td>0.0</td>\n",
       "      <td>0.0</td>\n",
       "    </tr>\n",
       "    <tr>\n",
       "      <th>2</th>\n",
       "      <td>17562.0</td>\n",
       "      <td>1025.0</td>\n",
       "      <td>Durfee Ave.</td>\n",
       "      <td>Santa Anita Ave.</td>\n",
       "      <td>Peck Rd.</td>\n",
       "      <td>34.035943</td>\n",
       "      <td>-118.039993</td>\n",
       "      <td>12-03-2016</td>\n",
       "      <td>Saturday</td>\n",
       "      <td>11:00 AM</td>\n",
       "      <td>1:00 AM</td>\n",
       "      <td>11:30 AM</td>\n",
       "      <td>0</td>\n",
       "      <td>0</td>\n",
       "      <td>2</td>\n",
       "      <td>5</td>\n",
       "      <td>0</td>\n",
       "      <td>0</td>\n",
       "      <td>0.0</td>\n",
       "      <td>manual_in_house</td>\n",
       "      <td>no</td>\n",
       "      <td>none</td>\n",
       "      <td>none</td>\n",
       "      <td>none</td>\n",
       "      <td>minorArterial</td>\n",
       "      <td>40.0</td>\n",
       "      <td>neighborhoodRetail</td>\n",
       "      <td>133.0</td>\n",
       "      <td>SEM</td>\n",
       "      <td>2017-07-17 15:08:00</td>\n",
       "      <td>7</td>\n",
       "      <td>0.0</td>\n",
       "      <td>0.0</td>\n",
       "      <td>0.0</td>\n",
       "      <td>0.0</td>\n",
       "    </tr>\n",
       "    <tr>\n",
       "      <th>3</th>\n",
       "      <td>17563.0</td>\n",
       "      <td>1025.0</td>\n",
       "      <td>Durfee Ave.</td>\n",
       "      <td>Santa Anita Ave.</td>\n",
       "      <td>Peck Rd.</td>\n",
       "      <td>34.035943</td>\n",
       "      <td>-118.039993</td>\n",
       "      <td>12-03-2016</td>\n",
       "      <td>Saturday</td>\n",
       "      <td>11:00 AM</td>\n",
       "      <td>1:00 AM</td>\n",
       "      <td>11:45 AM</td>\n",
       "      <td>0</td>\n",
       "      <td>0</td>\n",
       "      <td>1</td>\n",
       "      <td>3</td>\n",
       "      <td>0</td>\n",
       "      <td>0</td>\n",
       "      <td>0.0</td>\n",
       "      <td>manual_in_house</td>\n",
       "      <td>no</td>\n",
       "      <td>none</td>\n",
       "      <td>none</td>\n",
       "      <td>none</td>\n",
       "      <td>minorArterial</td>\n",
       "      <td>40.0</td>\n",
       "      <td>neighborhoodRetail</td>\n",
       "      <td>133.0</td>\n",
       "      <td>SEM</td>\n",
       "      <td>2017-07-17 15:08:00</td>\n",
       "      <td>4</td>\n",
       "      <td>0.0</td>\n",
       "      <td>0.0</td>\n",
       "      <td>0.0</td>\n",
       "      <td>0.0</td>\n",
       "    </tr>\n",
       "    <tr>\n",
       "      <th>4</th>\n",
       "      <td>17564.0</td>\n",
       "      <td>1025.0</td>\n",
       "      <td>Durfee Ave.</td>\n",
       "      <td>Santa Anita Ave.</td>\n",
       "      <td>Peck Rd.</td>\n",
       "      <td>34.035943</td>\n",
       "      <td>-118.039993</td>\n",
       "      <td>12-03-2016</td>\n",
       "      <td>Saturday</td>\n",
       "      <td>11:00 AM</td>\n",
       "      <td>1:00 AM</td>\n",
       "      <td>12:00 PM</td>\n",
       "      <td>0</td>\n",
       "      <td>0</td>\n",
       "      <td>1</td>\n",
       "      <td>0</td>\n",
       "      <td>0</td>\n",
       "      <td>0</td>\n",
       "      <td>0.0</td>\n",
       "      <td>manual_in_house</td>\n",
       "      <td>no</td>\n",
       "      <td>none</td>\n",
       "      <td>none</td>\n",
       "      <td>none</td>\n",
       "      <td>minorArterial</td>\n",
       "      <td>40.0</td>\n",
       "      <td>neighborhoodRetail</td>\n",
       "      <td>133.0</td>\n",
       "      <td>SEM</td>\n",
       "      <td>2017-07-17 15:08:00</td>\n",
       "      <td>1</td>\n",
       "      <td>0.0</td>\n",
       "      <td>0.0</td>\n",
       "      <td>0.0</td>\n",
       "      <td>0.0</td>\n",
       "    </tr>\n",
       "  </tbody>\n",
       "</table>\n",
       "</div>"
      ],
      "text/plain": [
       "   intervalid  location_id       street1           street2    street3  \\\n",
       "0     17560.0       1025.0  Durfee Ave.   Santa Anita Ave.  Peck Rd.    \n",
       "1     17561.0       1025.0  Durfee Ave.   Santa Anita Ave.  Peck Rd.    \n",
       "2     17562.0       1025.0  Durfee Ave.   Santa Anita Ave.  Peck Rd.    \n",
       "3     17563.0       1025.0  Durfee Ave.   Santa Anita Ave.  Peck Rd.    \n",
       "4     17564.0       1025.0  Durfee Ave.   Santa Anita Ave.  Peck Rd.    \n",
       "\n",
       "    latitude   longitude        date   weekday period_begin period_end  \\\n",
       "0  34.035943 -118.039993  12-03-2016  Saturday     11:00 AM    1:00 AM   \n",
       "1  34.035943 -118.039993  12-03-2016  Saturday     11:00 AM    1:00 AM   \n",
       "2  34.035943 -118.039993  12-03-2016  Saturday     11:00 AM    1:00 AM   \n",
       "3  34.035943 -118.039993  12-03-2016  Saturday     11:00 AM    1:00 AM   \n",
       "4  34.035943 -118.039993  12-03-2016  Saturday     11:00 AM    1:00 AM   \n",
       "\n",
       "  interval_begin  ns  sn  ew  we  specialneeds  skate  child     count_method  \\\n",
       "0       11:00 AM   0   0   4   7             0      1    2.0  manual_in_house   \n",
       "1       11:15 AM   0   0   0   0             0      0    0.0  manual_in_house   \n",
       "2       11:30 AM   0   0   2   5             0      0    0.0  manual_in_house   \n",
       "3       11:45 AM   0   0   1   3             0      0    0.0  manual_in_house   \n",
       "4       12:00 PM   0   0   1   0             0      0    0.0  manual_in_house   \n",
       "\n",
       "  raining unusual bikewaytype bikewaytype_options     road_class  speed_limit  \\\n",
       "0      no    none        none                none  minorArterial         40.0   \n",
       "1      no    none        none                none  minorArterial         40.0   \n",
       "2      no    none        none                none  minorArterial         40.0   \n",
       "3      no    none        none                none  minorArterial         40.0   \n",
       "4      no    none        none                none  minorArterial         40.0   \n",
       "\n",
       "              landuse  pk_dataset_id city       createdatetime  total_count  \\\n",
       "0  neighborhoodRetail          133.0  SEM  2017-07-17 15:08:00           11   \n",
       "1  neighborhoodRetail          133.0  SEM  2017-07-17 15:08:00            0   \n",
       "2  neighborhoodRetail          133.0  SEM  2017-07-17 15:08:00            7   \n",
       "3  neighborhoodRetail          133.0  SEM  2017-07-17 15:08:00            4   \n",
       "4  neighborhoodRetail          133.0  SEM  2017-07-17 15:08:00            1   \n",
       "\n",
       "   female  cane  dog  on_street  \n",
       "0     0.0   0.0  0.0        0.0  \n",
       "1     0.0   0.0  0.0        0.0  \n",
       "2     0.0   0.0  0.0        0.0  \n",
       "3     0.0   0.0  0.0        0.0  \n",
       "4     0.0   0.0  0.0        0.0  "
      ]
     },
     "execution_count": 17,
     "metadata": {},
     "output_type": "execute_result"
    }
   ],
   "source": [
    "df.head()"
   ]
  },
  {
   "cell_type": "code",
   "execution_count": 18,
   "metadata": {},
   "outputs": [],
   "source": [
    "df.to_csv(mst_path + 'clean_ped.csv', index = None)"
   ]
  },
  {
   "cell_type": "code",
   "execution_count": null,
   "metadata": {},
   "outputs": [],
   "source": []
  }
 ],
 "metadata": {
  "kernelspec": {
   "display_name": "Python 3",
   "language": "python",
   "name": "python3"
  },
  "language_info": {
   "codemirror_mode": {
    "name": "ipython",
    "version": 3
   },
   "file_extension": ".py",
   "mimetype": "text/x-python",
   "name": "python",
   "nbconvert_exporter": "python",
   "pygments_lexer": "ipython3",
   "version": "3.6.3"
  }
 },
 "nbformat": 4,
 "nbformat_minor": 2
}
