{
 "cells": [
  {
   "cell_type": "code",
   "execution_count": 1,
   "metadata": {
    "collapsed": false
   },
   "outputs": [],
   "source": [
    "import matplotlib\n",
    "matplotlib.use('TkAgg')\n",
    "import pandas as pd\n",
    "import numpy as np\n",
    "import matplotlib.pyplot as plt\n",
    "import seaborn as sns\n",
    "\n",
    "pd.set_option('max_column', 100)"
   ]
  },
  {
   "cell_type": "code",
   "execution_count": 2,
   "metadata": {
    "collapsed": true
   },
   "outputs": [],
   "source": [
    "mst_path = '/Users/amywatt1/Desktop/bikes/BikeSGV/datasets/mst/'\n",
    "fig_path = '/Users/amywatt1/Desktop/bikes//BikeSGV/export/02_summary_stats_ped/'"
   ]
  },
  {
   "cell_type": "code",
   "execution_count": 3,
   "metadata": {
    "collapsed": false
   },
   "outputs": [
    {
     "data": {
      "text/html": [
       "<div>\n",
       "<table border=\"1\" class=\"dataframe\">\n",
       "  <thead>\n",
       "    <tr style=\"text-align: right;\">\n",
       "      <th></th>\n",
       "      <th>intervalid</th>\n",
       "      <th>location_id</th>\n",
       "      <th>street1</th>\n",
       "      <th>street2</th>\n",
       "      <th>street3</th>\n",
       "      <th>latitude</th>\n",
       "      <th>longitude</th>\n",
       "      <th>date</th>\n",
       "      <th>weekday</th>\n",
       "      <th>period_begin</th>\n",
       "      <th>period_end</th>\n",
       "      <th>interval_begin</th>\n",
       "      <th>ns</th>\n",
       "      <th>sn</th>\n",
       "      <th>ew</th>\n",
       "      <th>we</th>\n",
       "      <th>female</th>\n",
       "      <th>sidewalk</th>\n",
       "      <th>wrongway</th>\n",
       "      <th>count_method</th>\n",
       "      <th>count_bikesonsidewalks</th>\n",
       "      <th>raining</th>\n",
       "      <th>unusual</th>\n",
       "      <th>bikewaytype</th>\n",
       "      <th>bikewaytype_options</th>\n",
       "      <th>road_class</th>\n",
       "      <th>speed_limit</th>\n",
       "      <th>landuse</th>\n",
       "      <th>pk_dataset_id</th>\n",
       "      <th>city</th>\n",
       "      <th>createdatetime</th>\n",
       "      <th>total_count</th>\n",
       "      <th>no_helmet</th>\n",
       "      <th>child</th>\n",
       "    </tr>\n",
       "  </thead>\n",
       "  <tbody>\n",
       "    <tr>\n",
       "      <th>0</th>\n",
       "      <td>19203.0</td>\n",
       "      <td>1025.0</td>\n",
       "      <td>Durfee Ave.</td>\n",
       "      <td>Santa Anita Ave.</td>\n",
       "      <td>Peck Rd.</td>\n",
       "      <td>34.035943</td>\n",
       "      <td>-118.039993</td>\n",
       "      <td>12-03-2016</td>\n",
       "      <td>Saturday</td>\n",
       "      <td>11:00 AM</td>\n",
       "      <td>1:00 AM</td>\n",
       "      <td>11:00 AM</td>\n",
       "      <td>0</td>\n",
       "      <td>0</td>\n",
       "      <td>0</td>\n",
       "      <td>1</td>\n",
       "      <td>0</td>\n",
       "      <td>0</td>\n",
       "      <td>1.0</td>\n",
       "      <td>manual_in_house</td>\n",
       "      <td>1</td>\n",
       "      <td>no</td>\n",
       "      <td>none</td>\n",
       "      <td>none</td>\n",
       "      <td>none</td>\n",
       "      <td>minorArterial</td>\n",
       "      <td>40.0</td>\n",
       "      <td>neighborhoodRetail</td>\n",
       "      <td>133.0</td>\n",
       "      <td>SEM</td>\n",
       "      <td>2017-07-17 15:08:00</td>\n",
       "      <td>1</td>\n",
       "      <td>1</td>\n",
       "      <td>0</td>\n",
       "    </tr>\n",
       "    <tr>\n",
       "      <th>1</th>\n",
       "      <td>19204.0</td>\n",
       "      <td>1025.0</td>\n",
       "      <td>Durfee Ave.</td>\n",
       "      <td>Santa Anita Ave.</td>\n",
       "      <td>Peck Rd.</td>\n",
       "      <td>34.035943</td>\n",
       "      <td>-118.039993</td>\n",
       "      <td>12-03-2016</td>\n",
       "      <td>Saturday</td>\n",
       "      <td>11:00 AM</td>\n",
       "      <td>1:00 AM</td>\n",
       "      <td>11:15 AM</td>\n",
       "      <td>0</td>\n",
       "      <td>0</td>\n",
       "      <td>1</td>\n",
       "      <td>0</td>\n",
       "      <td>0</td>\n",
       "      <td>0</td>\n",
       "      <td>0.0</td>\n",
       "      <td>manual_in_house</td>\n",
       "      <td>1</td>\n",
       "      <td>no</td>\n",
       "      <td>none</td>\n",
       "      <td>none</td>\n",
       "      <td>none</td>\n",
       "      <td>minorArterial</td>\n",
       "      <td>40.0</td>\n",
       "      <td>neighborhoodRetail</td>\n",
       "      <td>133.0</td>\n",
       "      <td>SEM</td>\n",
       "      <td>2017-07-17 15:08:00</td>\n",
       "      <td>1</td>\n",
       "      <td>0</td>\n",
       "      <td>0</td>\n",
       "    </tr>\n",
       "    <tr>\n",
       "      <th>2</th>\n",
       "      <td>19205.0</td>\n",
       "      <td>1025.0</td>\n",
       "      <td>Durfee Ave.</td>\n",
       "      <td>Santa Anita Ave.</td>\n",
       "      <td>Peck Rd.</td>\n",
       "      <td>34.035943</td>\n",
       "      <td>-118.039993</td>\n",
       "      <td>12-03-2016</td>\n",
       "      <td>Saturday</td>\n",
       "      <td>11:00 AM</td>\n",
       "      <td>1:00 AM</td>\n",
       "      <td>11:30 AM</td>\n",
       "      <td>0</td>\n",
       "      <td>0</td>\n",
       "      <td>1</td>\n",
       "      <td>0</td>\n",
       "      <td>0</td>\n",
       "      <td>0</td>\n",
       "      <td>0.0</td>\n",
       "      <td>manual_in_house</td>\n",
       "      <td>1</td>\n",
       "      <td>no</td>\n",
       "      <td>none</td>\n",
       "      <td>none</td>\n",
       "      <td>none</td>\n",
       "      <td>minorArterial</td>\n",
       "      <td>40.0</td>\n",
       "      <td>neighborhoodRetail</td>\n",
       "      <td>133.0</td>\n",
       "      <td>SEM</td>\n",
       "      <td>2017-07-17 15:08:00</td>\n",
       "      <td>1</td>\n",
       "      <td>0</td>\n",
       "      <td>0</td>\n",
       "    </tr>\n",
       "    <tr>\n",
       "      <th>3</th>\n",
       "      <td>19206.0</td>\n",
       "      <td>1025.0</td>\n",
       "      <td>Durfee Ave.</td>\n",
       "      <td>Santa Anita Ave.</td>\n",
       "      <td>Peck Rd.</td>\n",
       "      <td>34.035943</td>\n",
       "      <td>-118.039993</td>\n",
       "      <td>12-03-2016</td>\n",
       "      <td>Saturday</td>\n",
       "      <td>11:00 AM</td>\n",
       "      <td>1:00 AM</td>\n",
       "      <td>11:45 AM</td>\n",
       "      <td>0</td>\n",
       "      <td>0</td>\n",
       "      <td>2</td>\n",
       "      <td>0</td>\n",
       "      <td>0</td>\n",
       "      <td>0</td>\n",
       "      <td>0.0</td>\n",
       "      <td>manual_in_house</td>\n",
       "      <td>1</td>\n",
       "      <td>no</td>\n",
       "      <td>none</td>\n",
       "      <td>none</td>\n",
       "      <td>none</td>\n",
       "      <td>minorArterial</td>\n",
       "      <td>40.0</td>\n",
       "      <td>neighborhoodRetail</td>\n",
       "      <td>133.0</td>\n",
       "      <td>SEM</td>\n",
       "      <td>2017-07-17 15:08:00</td>\n",
       "      <td>2</td>\n",
       "      <td>0</td>\n",
       "      <td>0</td>\n",
       "    </tr>\n",
       "    <tr>\n",
       "      <th>4</th>\n",
       "      <td>19207.0</td>\n",
       "      <td>1025.0</td>\n",
       "      <td>Durfee Ave.</td>\n",
       "      <td>Santa Anita Ave.</td>\n",
       "      <td>Peck Rd.</td>\n",
       "      <td>34.035943</td>\n",
       "      <td>-118.039993</td>\n",
       "      <td>12-03-2016</td>\n",
       "      <td>Saturday</td>\n",
       "      <td>11:00 AM</td>\n",
       "      <td>1:00 AM</td>\n",
       "      <td>12:00 PM</td>\n",
       "      <td>0</td>\n",
       "      <td>0</td>\n",
       "      <td>0</td>\n",
       "      <td>0</td>\n",
       "      <td>0</td>\n",
       "      <td>0</td>\n",
       "      <td>0.0</td>\n",
       "      <td>manual_in_house</td>\n",
       "      <td>1</td>\n",
       "      <td>no</td>\n",
       "      <td>none</td>\n",
       "      <td>none</td>\n",
       "      <td>none</td>\n",
       "      <td>minorArterial</td>\n",
       "      <td>40.0</td>\n",
       "      <td>neighborhoodRetail</td>\n",
       "      <td>133.0</td>\n",
       "      <td>SEM</td>\n",
       "      <td>2017-07-17 15:08:00</td>\n",
       "      <td>0</td>\n",
       "      <td>0</td>\n",
       "      <td>0</td>\n",
       "    </tr>\n",
       "  </tbody>\n",
       "</table>\n",
       "</div>"
      ],
      "text/plain": [
       "   intervalid  location_id       street1           street2    street3  \\\n",
       "0     19203.0       1025.0  Durfee Ave.   Santa Anita Ave.  Peck Rd.    \n",
       "1     19204.0       1025.0  Durfee Ave.   Santa Anita Ave.  Peck Rd.    \n",
       "2     19205.0       1025.0  Durfee Ave.   Santa Anita Ave.  Peck Rd.    \n",
       "3     19206.0       1025.0  Durfee Ave.   Santa Anita Ave.  Peck Rd.    \n",
       "4     19207.0       1025.0  Durfee Ave.   Santa Anita Ave.  Peck Rd.    \n",
       "\n",
       "    latitude   longitude        date   weekday period_begin period_end  \\\n",
       "0  34.035943 -118.039993  12-03-2016  Saturday     11:00 AM    1:00 AM   \n",
       "1  34.035943 -118.039993  12-03-2016  Saturday     11:00 AM    1:00 AM   \n",
       "2  34.035943 -118.039993  12-03-2016  Saturday     11:00 AM    1:00 AM   \n",
       "3  34.035943 -118.039993  12-03-2016  Saturday     11:00 AM    1:00 AM   \n",
       "4  34.035943 -118.039993  12-03-2016  Saturday     11:00 AM    1:00 AM   \n",
       "\n",
       "  interval_begin  ns  sn  ew  we  female  sidewalk  wrongway     count_method  \\\n",
       "0       11:00 AM   0   0   0   1       0         0       1.0  manual_in_house   \n",
       "1       11:15 AM   0   0   1   0       0         0       0.0  manual_in_house   \n",
       "2       11:30 AM   0   0   1   0       0         0       0.0  manual_in_house   \n",
       "3       11:45 AM   0   0   2   0       0         0       0.0  manual_in_house   \n",
       "4       12:00 PM   0   0   0   0       0         0       0.0  manual_in_house   \n",
       "\n",
       "   count_bikesonsidewalks raining unusual bikewaytype bikewaytype_options  \\\n",
       "0                       1      no    none        none                none   \n",
       "1                       1      no    none        none                none   \n",
       "2                       1      no    none        none                none   \n",
       "3                       1      no    none        none                none   \n",
       "4                       1      no    none        none                none   \n",
       "\n",
       "      road_class  speed_limit             landuse  pk_dataset_id city  \\\n",
       "0  minorArterial         40.0  neighborhoodRetail          133.0  SEM   \n",
       "1  minorArterial         40.0  neighborhoodRetail          133.0  SEM   \n",
       "2  minorArterial         40.0  neighborhoodRetail          133.0  SEM   \n",
       "3  minorArterial         40.0  neighborhoodRetail          133.0  SEM   \n",
       "4  minorArterial         40.0  neighborhoodRetail          133.0  SEM   \n",
       "\n",
       "        createdatetime  total_count  no_helmet  child  \n",
       "0  2017-07-17 15:08:00            1          1      0  \n",
       "1  2017-07-17 15:08:00            1          0      0  \n",
       "2  2017-07-17 15:08:00            1          0      0  \n",
       "3  2017-07-17 15:08:00            2          0      0  \n",
       "4  2017-07-17 15:08:00            0          0      0  "
      ]
     },
     "execution_count": 3,
     "metadata": {},
     "output_type": "execute_result"
    }
   ],
   "source": [
    "df = pd.read_csv(mst_path + 'clean_bike.csv')\n",
    "df.head()"
   ]
  },
  {
   "cell_type": "markdown",
   "metadata": {},
   "source": [
    "Explore the data types of each column. Notice that the time column \"date\" is of type \"object\". Let's change that to datetime "
   ]
  },
  {
   "cell_type": "code",
   "execution_count": 4,
   "metadata": {
    "collapsed": false
   },
   "outputs": [
    {
     "data": {
      "text/plain": [
       "dtype('O')"
      ]
     },
     "execution_count": 4,
     "metadata": {},
     "output_type": "execute_result"
    }
   ],
   "source": [
    "df.dtypes['date']"
   ]
  },
  {
   "cell_type": "code",
   "execution_count": 5,
   "metadata": {
    "collapsed": false
   },
   "outputs": [
    {
     "data": {
      "text/plain": [
       "dtype('<M8[ns]')"
      ]
     },
     "execution_count": 5,
     "metadata": {},
     "output_type": "execute_result"
    }
   ],
   "source": [
    "df['date'] = pd.to_datetime(df['date'])\n",
    "df.dtypes['date']"
   ]
  },
  {
   "cell_type": "code",
   "execution_count": 6,
   "metadata": {
    "collapsed": false
   },
   "outputs": [
    {
     "name": "stdout",
     "output_type": "stream",
     "text": [
      "Number of nans in the date column: 16\n"
     ]
    },
    {
     "data": {
      "text/plain": [
       "(2608, 34)"
      ]
     },
     "execution_count": 6,
     "metadata": {},
     "output_type": "execute_result"
    }
   ],
   "source": [
    "# Observe that there are some nan values in the column date. We drop these rows\n",
    "print(\"Number of nans in the date column:\", df.isnull().sum()['date'])\n",
    "df = df.dropna(subset = ['date'])\n",
    "df.index = range(len(df))\n",
    "df.shape"
   ]
  },
  {
   "cell_type": "code",
   "execution_count": 7,
   "metadata": {
    "collapsed": false
   },
   "outputs": [
    {
     "data": {
      "text/plain": [
       "2017-4     528\n",
       "2017-6     280\n",
       "2017-5     256\n",
       "2016-4     240\n",
       "2016-5     208\n",
       "2016-12    208\n",
       "2016-10    184\n",
       "2017-1     144\n",
       "2017-3     136\n",
       "2017-2     120\n",
       "2016-11    112\n",
       "2017-7      56\n",
       "2016-9      56\n",
       "2018-7      24\n",
       "2018-1      24\n",
       "2016-8      24\n",
       "2017-8       8\n",
       "Name: yr_mo, dtype: int64"
      ]
     },
     "execution_count": 7,
     "metadata": {},
     "output_type": "execute_result"
    }
   ],
   "source": [
    "# Explore the number of observations per year_month combinatino for the dataset\n",
    "df['month'] = df['date'].apply(lambda x: x.month)\n",
    "df['year'] = df['date'].apply(lambda x: int(x.year))\n",
    "df['yr_mo'] = [str(a)+'-'+str(b) for a,b in zip(df['year'], df['month'])]\n",
    "df['yr_mo'].value_counts()"
   ]
  },
  {
   "cell_type": "markdown",
   "metadata": {},
   "source": [
    "It seems that 2017-01 to 2017-06 has most of the data points, so we focus on this period only. Note that you can totally make other assumptions and subset the data in another way! This is just what I am doing here."
   ]
  },
  {
   "cell_type": "code",
   "execution_count": 8,
   "metadata": {
    "collapsed": false
   },
   "outputs": [
    {
     "name": "stdout",
     "output_type": "stream",
     "text": [
      "time_range ['2017-1', '2017-2', '2017-3', '2017-4', '2017-5', '2017-6']\n"
     ]
    },
    {
     "data": {
      "text/plain": [
       "(1464, 37)"
      ]
     },
     "execution_count": 8,
     "metadata": {},
     "output_type": "execute_result"
    }
   ],
   "source": [
    "# Subset the data for only this time range:\n",
    "time_range = ['2017-' + str(i) for i in range(1,7)]\n",
    "print(\"time_range\", time_range)\n",
    "\n",
    "# Subset the data and check how many obs. are left\n",
    "df = df[df['yr_mo'].isin(time_range)]\n",
    "df.shape"
   ]
  },
  {
   "cell_type": "markdown",
   "metadata": {},
   "source": [
    "# Temporal Trends of One Variable"
   ]
  },
  {
   "cell_type": "code",
   "execution_count": 9,
   "metadata": {
    "collapsed": false,
    "scrolled": false
   },
   "outputs": [
    {
     "data": {
      "text/html": [
       "<div>\n",
       "<table border=\"1\" class=\"dataframe\">\n",
       "  <thead>\n",
       "    <tr style=\"text-align: right;\">\n",
       "      <th></th>\n",
       "      <th>intervalid</th>\n",
       "      <th>location_id</th>\n",
       "      <th>street1</th>\n",
       "      <th>street2</th>\n",
       "      <th>street3</th>\n",
       "      <th>latitude</th>\n",
       "      <th>longitude</th>\n",
       "      <th>date</th>\n",
       "      <th>weekday</th>\n",
       "      <th>period_begin</th>\n",
       "      <th>period_end</th>\n",
       "      <th>interval_begin</th>\n",
       "      <th>ns</th>\n",
       "      <th>sn</th>\n",
       "      <th>ew</th>\n",
       "      <th>we</th>\n",
       "      <th>female</th>\n",
       "      <th>sidewalk</th>\n",
       "      <th>wrongway</th>\n",
       "      <th>count_method</th>\n",
       "      <th>count_bikesonsidewalks</th>\n",
       "      <th>raining</th>\n",
       "      <th>unusual</th>\n",
       "      <th>bikewaytype</th>\n",
       "      <th>bikewaytype_options</th>\n",
       "      <th>road_class</th>\n",
       "      <th>speed_limit</th>\n",
       "      <th>landuse</th>\n",
       "      <th>pk_dataset_id</th>\n",
       "      <th>city</th>\n",
       "      <th>createdatetime</th>\n",
       "      <th>total_count</th>\n",
       "      <th>no_helmet</th>\n",
       "      <th>child</th>\n",
       "      <th>month</th>\n",
       "      <th>year</th>\n",
       "      <th>yr_mo</th>\n",
       "    </tr>\n",
       "  </thead>\n",
       "  <tbody>\n",
       "    <tr>\n",
       "      <th>32</th>\n",
       "      <td>18082.0</td>\n",
       "      <td>1030.0</td>\n",
       "      <td>Durfee Ave.</td>\n",
       "      <td>Thienes Ave.</td>\n",
       "      <td>Rush St.</td>\n",
       "      <td>34.043525</td>\n",
       "      <td>-118.032415</td>\n",
       "      <td>2017-01-17</td>\n",
       "      <td>Tuesday</td>\n",
       "      <td>7:00 AM</td>\n",
       "      <td>9:00 AM</td>\n",
       "      <td>7:00 AM</td>\n",
       "      <td>1</td>\n",
       "      <td>3</td>\n",
       "      <td>0</td>\n",
       "      <td>0</td>\n",
       "      <td>1</td>\n",
       "      <td>2</td>\n",
       "      <td>0.0</td>\n",
       "      <td>manual_in_house</td>\n",
       "      <td>1</td>\n",
       "      <td>no</td>\n",
       "      <td>none</td>\n",
       "      <td>none</td>\n",
       "      <td>none</td>\n",
       "      <td>principalArterial</td>\n",
       "      <td>35.0</td>\n",
       "      <td>neighborhoodRetail</td>\n",
       "      <td>133.0</td>\n",
       "      <td>SEM</td>\n",
       "      <td>2017-02-07 13:27:00</td>\n",
       "      <td>4</td>\n",
       "      <td>4</td>\n",
       "      <td>0</td>\n",
       "      <td>1</td>\n",
       "      <td>2017</td>\n",
       "      <td>2017-1</td>\n",
       "    </tr>\n",
       "    <tr>\n",
       "      <th>33</th>\n",
       "      <td>18083.0</td>\n",
       "      <td>1030.0</td>\n",
       "      <td>Durfee Ave.</td>\n",
       "      <td>Thienes Ave.</td>\n",
       "      <td>Rush St.</td>\n",
       "      <td>34.043525</td>\n",
       "      <td>-118.032415</td>\n",
       "      <td>2017-01-17</td>\n",
       "      <td>Tuesday</td>\n",
       "      <td>7:00 AM</td>\n",
       "      <td>9:00 AM</td>\n",
       "      <td>7:15 AM</td>\n",
       "      <td>1</td>\n",
       "      <td>1</td>\n",
       "      <td>0</td>\n",
       "      <td>0</td>\n",
       "      <td>0</td>\n",
       "      <td>2</td>\n",
       "      <td>0.0</td>\n",
       "      <td>manual_in_house</td>\n",
       "      <td>1</td>\n",
       "      <td>no</td>\n",
       "      <td>none</td>\n",
       "      <td>none</td>\n",
       "      <td>none</td>\n",
       "      <td>principalArterial</td>\n",
       "      <td>35.0</td>\n",
       "      <td>neighborhoodRetail</td>\n",
       "      <td>133.0</td>\n",
       "      <td>SEM</td>\n",
       "      <td>2017-02-07 13:27:00</td>\n",
       "      <td>2</td>\n",
       "      <td>2</td>\n",
       "      <td>0</td>\n",
       "      <td>1</td>\n",
       "      <td>2017</td>\n",
       "      <td>2017-1</td>\n",
       "    </tr>\n",
       "    <tr>\n",
       "      <th>34</th>\n",
       "      <td>18084.0</td>\n",
       "      <td>1030.0</td>\n",
       "      <td>Durfee Ave.</td>\n",
       "      <td>Thienes Ave.</td>\n",
       "      <td>Rush St.</td>\n",
       "      <td>34.043525</td>\n",
       "      <td>-118.032415</td>\n",
       "      <td>2017-01-17</td>\n",
       "      <td>Tuesday</td>\n",
       "      <td>7:00 AM</td>\n",
       "      <td>9:00 AM</td>\n",
       "      <td>7:30 AM</td>\n",
       "      <td>0</td>\n",
       "      <td>1</td>\n",
       "      <td>0</td>\n",
       "      <td>0</td>\n",
       "      <td>0</td>\n",
       "      <td>1</td>\n",
       "      <td>0.0</td>\n",
       "      <td>manual_in_house</td>\n",
       "      <td>1</td>\n",
       "      <td>no</td>\n",
       "      <td>none</td>\n",
       "      <td>none</td>\n",
       "      <td>none</td>\n",
       "      <td>principalArterial</td>\n",
       "      <td>35.0</td>\n",
       "      <td>neighborhoodRetail</td>\n",
       "      <td>133.0</td>\n",
       "      <td>SEM</td>\n",
       "      <td>2017-02-07 13:27:00</td>\n",
       "      <td>1</td>\n",
       "      <td>1</td>\n",
       "      <td>0</td>\n",
       "      <td>1</td>\n",
       "      <td>2017</td>\n",
       "      <td>2017-1</td>\n",
       "    </tr>\n",
       "    <tr>\n",
       "      <th>35</th>\n",
       "      <td>18085.0</td>\n",
       "      <td>1030.0</td>\n",
       "      <td>Durfee Ave.</td>\n",
       "      <td>Thienes Ave.</td>\n",
       "      <td>Rush St.</td>\n",
       "      <td>34.043525</td>\n",
       "      <td>-118.032415</td>\n",
       "      <td>2017-01-17</td>\n",
       "      <td>Tuesday</td>\n",
       "      <td>7:00 AM</td>\n",
       "      <td>9:00 AM</td>\n",
       "      <td>7:45 AM</td>\n",
       "      <td>0</td>\n",
       "      <td>1</td>\n",
       "      <td>0</td>\n",
       "      <td>0</td>\n",
       "      <td>0</td>\n",
       "      <td>1</td>\n",
       "      <td>0.0</td>\n",
       "      <td>manual_in_house</td>\n",
       "      <td>1</td>\n",
       "      <td>no</td>\n",
       "      <td>none</td>\n",
       "      <td>none</td>\n",
       "      <td>none</td>\n",
       "      <td>principalArterial</td>\n",
       "      <td>35.0</td>\n",
       "      <td>neighborhoodRetail</td>\n",
       "      <td>133.0</td>\n",
       "      <td>SEM</td>\n",
       "      <td>2017-02-07 13:27:00</td>\n",
       "      <td>1</td>\n",
       "      <td>1</td>\n",
       "      <td>0</td>\n",
       "      <td>1</td>\n",
       "      <td>2017</td>\n",
       "      <td>2017-1</td>\n",
       "    </tr>\n",
       "    <tr>\n",
       "      <th>36</th>\n",
       "      <td>18086.0</td>\n",
       "      <td>1030.0</td>\n",
       "      <td>Durfee Ave.</td>\n",
       "      <td>Thienes Ave.</td>\n",
       "      <td>Rush St.</td>\n",
       "      <td>34.043525</td>\n",
       "      <td>-118.032415</td>\n",
       "      <td>2017-01-17</td>\n",
       "      <td>Tuesday</td>\n",
       "      <td>7:00 AM</td>\n",
       "      <td>9:00 AM</td>\n",
       "      <td>8:00 AM</td>\n",
       "      <td>0</td>\n",
       "      <td>0</td>\n",
       "      <td>0</td>\n",
       "      <td>0</td>\n",
       "      <td>0</td>\n",
       "      <td>0</td>\n",
       "      <td>0.0</td>\n",
       "      <td>manual_in_house</td>\n",
       "      <td>1</td>\n",
       "      <td>no</td>\n",
       "      <td>none</td>\n",
       "      <td>none</td>\n",
       "      <td>none</td>\n",
       "      <td>principalArterial</td>\n",
       "      <td>35.0</td>\n",
       "      <td>neighborhoodRetail</td>\n",
       "      <td>133.0</td>\n",
       "      <td>SEM</td>\n",
       "      <td>2017-02-07 13:27:00</td>\n",
       "      <td>0</td>\n",
       "      <td>0</td>\n",
       "      <td>0</td>\n",
       "      <td>1</td>\n",
       "      <td>2017</td>\n",
       "      <td>2017-1</td>\n",
       "    </tr>\n",
       "  </tbody>\n",
       "</table>\n",
       "</div>"
      ],
      "text/plain": [
       "    intervalid  location_id       street1        street2   street3   latitude  \\\n",
       "32     18082.0       1030.0  Durfee Ave.   Thienes Ave.   Rush St.  34.043525   \n",
       "33     18083.0       1030.0  Durfee Ave.   Thienes Ave.   Rush St.  34.043525   \n",
       "34     18084.0       1030.0  Durfee Ave.   Thienes Ave.   Rush St.  34.043525   \n",
       "35     18085.0       1030.0  Durfee Ave.   Thienes Ave.   Rush St.  34.043525   \n",
       "36     18086.0       1030.0  Durfee Ave.   Thienes Ave.   Rush St.  34.043525   \n",
       "\n",
       "     longitude       date  weekday period_begin period_end interval_begin  ns  \\\n",
       "32 -118.032415 2017-01-17  Tuesday      7:00 AM    9:00 AM        7:00 AM   1   \n",
       "33 -118.032415 2017-01-17  Tuesday      7:00 AM    9:00 AM        7:15 AM   1   \n",
       "34 -118.032415 2017-01-17  Tuesday      7:00 AM    9:00 AM        7:30 AM   0   \n",
       "35 -118.032415 2017-01-17  Tuesday      7:00 AM    9:00 AM        7:45 AM   0   \n",
       "36 -118.032415 2017-01-17  Tuesday      7:00 AM    9:00 AM        8:00 AM   0   \n",
       "\n",
       "    sn  ew  we  female  sidewalk  wrongway     count_method  \\\n",
       "32   3   0   0       1         2       0.0  manual_in_house   \n",
       "33   1   0   0       0         2       0.0  manual_in_house   \n",
       "34   1   0   0       0         1       0.0  manual_in_house   \n",
       "35   1   0   0       0         1       0.0  manual_in_house   \n",
       "36   0   0   0       0         0       0.0  manual_in_house   \n",
       "\n",
       "    count_bikesonsidewalks raining unusual bikewaytype bikewaytype_options  \\\n",
       "32                       1      no    none        none                none   \n",
       "33                       1      no    none        none                none   \n",
       "34                       1      no    none        none                none   \n",
       "35                       1      no    none        none                none   \n",
       "36                       1      no    none        none                none   \n",
       "\n",
       "           road_class  speed_limit             landuse  pk_dataset_id city  \\\n",
       "32  principalArterial         35.0  neighborhoodRetail          133.0  SEM   \n",
       "33  principalArterial         35.0  neighborhoodRetail          133.0  SEM   \n",
       "34  principalArterial         35.0  neighborhoodRetail          133.0  SEM   \n",
       "35  principalArterial         35.0  neighborhoodRetail          133.0  SEM   \n",
       "36  principalArterial         35.0  neighborhoodRetail          133.0  SEM   \n",
       "\n",
       "         createdatetime  total_count  no_helmet  child  month  year   yr_mo  \n",
       "32  2017-02-07 13:27:00            4          4      0      1  2017  2017-1  \n",
       "33  2017-02-07 13:27:00            2          2      0      1  2017  2017-1  \n",
       "34  2017-02-07 13:27:00            1          1      0      1  2017  2017-1  \n",
       "35  2017-02-07 13:27:00            1          1      0      1  2017  2017-1  \n",
       "36  2017-02-07 13:27:00            0          0      0      1  2017  2017-1  "
      ]
     },
     "execution_count": 9,
     "metadata": {},
     "output_type": "execute_result"
    }
   ],
   "source": [
    "df.head()"
   ]
  },
  {
   "cell_type": "markdown",
   "metadata": {},
   "source": [
    "# Trends for different weekdays:"
   ]
  },
  {
   "cell_type": "code",
   "execution_count": 10,
   "metadata": {
    "collapsed": false,
    "scrolled": false
   },
   "outputs": [
    {
     "data": {
      "text/html": [
       "<div>\n",
       "<table border=\"1\" class=\"dataframe\">\n",
       "  <thead>\n",
       "    <tr style=\"text-align: right;\">\n",
       "      <th></th>\n",
       "      <th>city</th>\n",
       "      <th>weekday</th>\n",
       "      <th>sum</th>\n",
       "      <th>mean</th>\n",
       "      <th>count</th>\n",
       "      <th>weekday_num</th>\n",
       "    </tr>\n",
       "  </thead>\n",
       "  <tbody>\n",
       "    <tr>\n",
       "      <th>0</th>\n",
       "      <td>Altadena</td>\n",
       "      <td>Saturday</td>\n",
       "      <td>80</td>\n",
       "      <td>1.666667</td>\n",
       "      <td>48</td>\n",
       "      <td>2</td>\n",
       "    </tr>\n",
       "    <tr>\n",
       "      <th>1</th>\n",
       "      <td>Altadena</td>\n",
       "      <td>Thursday</td>\n",
       "      <td>70</td>\n",
       "      <td>1.250000</td>\n",
       "      <td>56</td>\n",
       "      <td>1</td>\n",
       "    </tr>\n",
       "    <tr>\n",
       "      <th>2</th>\n",
       "      <td>Altadena</td>\n",
       "      <td>Tuesday</td>\n",
       "      <td>59</td>\n",
       "      <td>1.475000</td>\n",
       "      <td>40</td>\n",
       "      <td>0</td>\n",
       "    </tr>\n",
       "    <tr>\n",
       "      <th>3</th>\n",
       "      <td>Arcadia</td>\n",
       "      <td>Saturday</td>\n",
       "      <td>134</td>\n",
       "      <td>3.350000</td>\n",
       "      <td>40</td>\n",
       "      <td>2</td>\n",
       "    </tr>\n",
       "    <tr>\n",
       "      <th>4</th>\n",
       "      <td>Arcadia</td>\n",
       "      <td>Thursday</td>\n",
       "      <td>31</td>\n",
       "      <td>1.291667</td>\n",
       "      <td>24</td>\n",
       "      <td>1</td>\n",
       "    </tr>\n",
       "  </tbody>\n",
       "</table>\n",
       "</div>"
      ],
      "text/plain": [
       "       city   weekday  sum      mean  count weekday_num\n",
       "0  Altadena  Saturday   80  1.666667     48           2\n",
       "1  Altadena  Thursday   70  1.250000     56           1\n",
       "2  Altadena   Tuesday   59  1.475000     40           0\n",
       "3   Arcadia  Saturday  134  3.350000     40           2\n",
       "4   Arcadia  Thursday   31  1.291667     24           1"
      ]
     },
     "execution_count": 10,
     "metadata": {},
     "output_type": "execute_result"
    }
   ],
   "source": [
    "weekday = df.groupby(['city', 'weekday']).agg(['sum', 'mean', 'count'])['total_count'].reset_index()\n",
    "weekday['weekday_num'] = weekday['weekday'].replace({'Tuesday':0, 'Thursday':1, 'Saturday':2})\n",
    "#drop any rows with fewer than 23 observations\n",
    "weekday = weekday.loc[weekday['count'] > 23]\n",
    "weekday.head()"
   ]
  },
  {
   "cell_type": "code",
   "execution_count": 11,
   "metadata": {
    "collapsed": false
   },
   "outputs": [],
   "source": [
    "weekday = weekday.sort_values(by=['city', 'weekday_num'])"
   ]
  },
  {
   "cell_type": "code",
   "execution_count": 12,
   "metadata": {
    "collapsed": false
   },
   "outputs": [
    {
     "name": "stdout",
     "output_type": "stream",
     "text": [
      "['Arcadia', 'Duarte', 'Pomona', 'Rowland Heights', 'Altadena']\n"
     ]
    }
   ],
   "source": [
    "cities_dict = {}\n",
    "cities = []\n",
    "for city in weekday[\"city\"]:\n",
    "    if city in cities_dict.keys():\n",
    "        cities_dict[city] = cities_dict[city] + 1\n",
    "    else:\n",
    "        cities_dict[city] = 1\n",
    "        \n",
    "for key in cities_dict.keys():\n",
    "    if cities_dict[key] == 3:\n",
    "        cities.append(key)\n",
    "\n",
    "print (cities)"
   ]
  },
  {
   "cell_type": "code",
   "execution_count": 13,
   "metadata": {
    "collapsed": false,
    "scrolled": true
   },
   "outputs": [
    {
     "data": {
      "text/plain": [
       "Text(0.5, 1.0, 'Average Total Count by Day of Week')"
      ]
     },
     "execution_count": 13,
     "metadata": {},
     "output_type": "execute_result"
    },
    {
     "data": {
      "image/png": "[encoded data removed]",
      "text/plain": [
       "<Figure size 600x400 with 1 Axes>"
      ]
     },
     "metadata": {},
     "output_type": "display_data"
    }
   ],
   "source": [
    "Arcadia = weekday.loc[weekday['city'] == 'Arcadia']\n",
    "Altadena = weekday.loc[weekday['city'] == 'Altadena']\n",
    "Duarte = weekday.loc[weekday['city'] == 'Duarte']\n",
    "Rowland = weekday.loc[weekday['city'] == 'Rowland Heights']\n",
    "Pomona = weekday.loc[weekday['city'] == 'Pomona']\n",
    "\n",
    "%matplotlib inline\n",
    "plt.plot(Arcadia['weekday'], Arcadia['mean'], color = 'red', label = 'Arcadia')\n",
    "plt.plot(Altadena['weekday'], Altadena['mean'], color = 'orange', label = 'Altadena')\n",
    "plt.plot(Duarte['weekday'], Duarte['mean'], color = 'purple', label = 'Duarte')\n",
    "plt.plot(Rowland['weekday'], Rowland['mean'], color = 'green', label = 'Rowland')\n",
    "plt.plot(Pomona['weekday'], Pomona['mean'], color = 'blue', label = 'Pomona')\n",
    "plt.legend()\n",
    "plt.xlabel('Day of Week')\n",
    "plt.ylabel('Average Total Count')\n",
    "plt.title(\"Average Total Count by Day of Week\")"
   ]
  },
  {
   "cell_type": "markdown",
   "metadata": {},
   "source": [
    "Each observation represents the average number of bike riders in a particular location within a 15-minute interval. For each city and weekday on which observations were recorded, the average number of bikers seen in a 155-minute interval was calculated. Only cities with at least 8 15-minute observations per each of the three weekdays during 1/2017 to 6/2017 were included in this analysis. \n",
    "\n",
    "For the represented cities, there is a characteritic dip in the average number of bikers on Thursday, and a large increase on Saturday in Arcadia and a small increase on Saturday in the other cities. Because biking decreases later on during the week consistently across all cities, programs designed to encourage biking should emphasize continuing to use biking as a mode of transport in the latter parts of the week. It is possible that people get tired later on the week, causing the decrease in biking but further research is needed to test this hypothesis. Because biking is very popular in Arcadia on Saturday, safety measures such as crossing guards should be implemented on Saturday. "
   ]
  },
  {
   "cell_type": "markdown",
   "metadata": {},
   "source": [
    "#  Trends for diffent time periods"
   ]
  },
  {
   "cell_type": "code",
   "execution_count": 14,
   "metadata": {
    "collapsed": false
   },
   "outputs": [],
   "source": [
    "#trends for different time periods\n",
    "city = df.groupby(['city', 'period_begin', 'period_end']).agg(['sum', 'mean', 'count'])['total_count'].reset_index()\n",
    "city = city.loc[city['count'] > 23]\n",
    "city['time_num'] = city['period_begin'].replace({'7:00 AM':0, '11:00 AM':1, '4:00 PM':2})\n",
    "city = city.sort_values(by=['city', 'time_num'])"
   ]
  },
  {
   "cell_type": "code",
   "execution_count": 15,
   "metadata": {
    "collapsed": false
   },
   "outputs": [
    {
     "name": "stdout",
     "output_type": "stream",
     "text": [
      "['Arcadia', 'Duarte', 'Temple City', 'Rowland Heights', 'Pomona', 'Baldwin Park', 'Mt. SAC/Cal Poly/Walnut', 'Altadena', 'E. Pasadena']\n"
     ]
    }
   ],
   "source": [
    "cities_dict = {}\n",
    "cities = []\n",
    "for c in city[\"city\"]:\n",
    "    if c in cities_dict.keys():\n",
    "        cities_dict[c] = cities_dict[c] + 1\n",
    "    else:\n",
    "        cities_dict[c] = 1\n",
    "        \n",
    "for key in cities_dict.keys():\n",
    "    if cities_dict[key] == 3:\n",
    "        cities.append(key)\n",
    "\n",
    "print (cities)"
   ]
  },
  {
   "cell_type": "code",
   "execution_count": 16,
   "metadata": {
    "collapsed": false
   },
   "outputs": [
    {
     "data": {
      "text/plain": [
       "Text(0.5, 0, 'Period Begin')"
      ]
     },
     "execution_count": 16,
     "metadata": {},
     "output_type": "execute_result"
    },
    {
     "data": {
      "image/png": "[encoded data removed]",
      "text/plain": [
       "<Figure size 1500x500 with 2 Axes>"
      ]
     },
     "metadata": {},
     "output_type": "display_data"
    }
   ],
   "source": [
    "Arcadia = city.loc[city['city'] == 'Arcadia']\n",
    "Altadena = city.loc[city['city'] == 'Altadena']\n",
    "Baldwin = city.loc[city['city'] == 'Baldwin Park']\n",
    "SAC = city.loc[city['city'] == 'Mt. SAC/Cal Poly/Walnut']\n",
    "Duarte = city.loc[city['city'] == 'Duarte']\n",
    "Temple = city.loc[city['city'] == 'Temple City']\n",
    "Rowland = city.loc[city['city'] == 'Rowland Heights']\n",
    "Pomona = city.loc[city['city'] == 'Pomona']\n",
    "EPasadena = city.loc[city['city'] == 'E. Pasadena']\n",
    "\n",
    "%matplotlib inline\n",
    "f, (ax1, ax2) = plt.subplots(1, 2, sharex=True, sharey=True, figsize=(15,5))\n",
    "f.suptitle('Average Total Count by Period Begin')\n",
    "ax1.plot(Altadena['period_begin'], Altadena['mean'], color = 'orange', label = 'Altadena')\n",
    "ax1.plot(Arcadia['period_begin'], Arcadia['mean'], color = 'red', label = 'Arcadia')\n",
    "ax1.plot(Baldwin['period_begin'], Baldwin['mean'], color = 'yellow', label = 'Baldwin')\n",
    "ax1.plot(Pomona['period_begin'], Pomona['mean'], color = 'grey', label = 'Pomona')\n",
    "ax1.plot(EPasadena['period_begin'], EPasadena['mean'], color = 'brown', label = 'E Pasadena')\n",
    "ax1.legend()\n",
    "ax1.set_xlabel('Period Begin')\n",
    "ax1.set_ylabel('Average Total Count')\n",
    "ax2.plot(SAC['period_begin'], SAC['mean'], color = 'green', label = 'SAC')\n",
    "ax2.plot(Duarte['period_begin'], Duarte['mean'], color = 'blue', label = 'Duarte')\n",
    "ax2.plot(Temple['period_begin'], Temple['mean'], color = 'purple', label = 'Temple')\n",
    "ax2.plot(Rowland['period_begin'], Rowland['mean'], color = 'pink', label = 'Rowland')\n",
    "ax2.legend()\n",
    "ax2.set_xlabel('Period Begin')\n"
   ]
  },
  {
   "cell_type": "markdown",
   "metadata": {},
   "source": [
    "Each observation represents the average number of bike riders in a particular location within a 15-minute interval. Observation periods last two hours (8 obeservations per period), and begin at 7AM, 11AM, or 4PM and end at 9AM, 1PM, and 6PM respectively. For each city and time at which observations began, the average number of bikers seen in a 15-minute interval was calculated. Only cities with at least 8 15-minute observations per each of the three weekdays during 1/2017 to 6/2017 were included in this analysis. \n",
    "\n",
    "Two trends emerge. Half of the cities see an increase in bikers during the 11AM to 1PM period, and the other half of cities see relatively stable average total count of bikers in the 7AM and 11AM periods and see an increase for the 4PM periods. This shows different trends in what times of day are most popular. For the first group of cities, increased bike safety measures, such as crossing guards, are more effective from 11am to 1pm. Fir the second group of cities, increased bike safety measures are more effective from 4pm to 6pm. Additionally, because it tends to get dark outside around 5pm in the winter, it is important to encourage bikers to use reflective gear. BikeSGV may want to start a program to provide bikers during the 4pm to 6pm interval free or subsidized reflective equiptment to enhance safety. "
   ]
  },
  {
   "cell_type": "code",
   "execution_count": 17,
   "metadata": {
    "collapsed": false
   },
   "outputs": [
    {
     "data": {
      "text/html": [
       "<div>\n",
       "<table border=\"1\" class=\"dataframe\">\n",
       "  <thead>\n",
       "    <tr style=\"text-align: right;\">\n",
       "      <th></th>\n",
       "      <th>index</th>\n",
       "      <th>location_id</th>\n",
       "      <th>city</th>\n",
       "      <th>sum</th>\n",
       "      <th>mean</th>\n",
       "      <th>count</th>\n",
       "    </tr>\n",
       "  </thead>\n",
       "  <tbody>\n",
       "    <tr>\n",
       "      <th>0</th>\n",
       "      <td>5</td>\n",
       "      <td>1545.0</td>\n",
       "      <td>SEM</td>\n",
       "      <td>36</td>\n",
       "      <td>4.500000</td>\n",
       "      <td>8</td>\n",
       "    </tr>\n",
       "    <tr>\n",
       "      <th>1</th>\n",
       "      <td>37</td>\n",
       "      <td>1607.0</td>\n",
       "      <td>Pasadena</td>\n",
       "      <td>36</td>\n",
       "      <td>4.500000</td>\n",
       "      <td>8</td>\n",
       "    </tr>\n",
       "    <tr>\n",
       "      <th>2</th>\n",
       "      <td>31</td>\n",
       "      <td>1600.0</td>\n",
       "      <td>Arcadia</td>\n",
       "      <td>98</td>\n",
       "      <td>4.083333</td>\n",
       "      <td>24</td>\n",
       "    </tr>\n",
       "    <tr>\n",
       "      <th>3</th>\n",
       "      <td>52</td>\n",
       "      <td>1620.0</td>\n",
       "      <td>Azusa</td>\n",
       "      <td>88</td>\n",
       "      <td>3.666667</td>\n",
       "      <td>24</td>\n",
       "    </tr>\n",
       "    <tr>\n",
       "      <th>4</th>\n",
       "      <td>30</td>\n",
       "      <td>1599.0</td>\n",
       "      <td>Arcadia</td>\n",
       "      <td>77</td>\n",
       "      <td>3.208333</td>\n",
       "      <td>24</td>\n",
       "    </tr>\n",
       "  </tbody>\n",
       "</table>\n",
       "</div>"
      ],
      "text/plain": [
       "   index  location_id      city  sum      mean  count\n",
       "0      5       1545.0       SEM   36  4.500000      8\n",
       "1     37       1607.0  Pasadena   36  4.500000      8\n",
       "2     31       1600.0   Arcadia   98  4.083333     24\n",
       "3     52       1620.0     Azusa   88  3.666667     24\n",
       "4     30       1599.0   Arcadia   77  3.208333     24"
      ]
     },
     "execution_count": 17,
     "metadata": {},
     "output_type": "execute_result"
    }
   ],
   "source": [
    "#locations with the highest number of average bikers passing through\n",
    "location = df.groupby(['location_id', 'city']).agg(['sum', 'mean', 'count'])['total_count'].reset_index()\n",
    "location = location.sort_values('mean', ascending = False).reset_index()\n",
    "location.head()"
   ]
  },
  {
   "cell_type": "code",
   "execution_count": 18,
   "metadata": {
    "collapsed": false
   },
   "outputs": [
    {
     "name": "stdout",
     "output_type": "stream",
     "text": [
      "    index  location_id             city  sum  mean  count\n",
      "19     65       1633.0  Rowland Heights   48   2.0     24\n"
     ]
    }
   ],
   "source": [
    "print(location[19:20])"
   ]
  },
  {
   "cell_type": "code",
   "execution_count": 19,
   "metadata": {
    "collapsed": false
   },
   "outputs": [
    {
     "data": {
      "text/plain": [
       "{'Altadena': 2,\n",
       " 'Arcadia': 2,\n",
       " 'Azusa': 1,\n",
       " 'Duarte': 2,\n",
       " 'La Verne': 1,\n",
       " 'Pasadena': 1,\n",
       " 'Pomona': 4,\n",
       " 'Rowland Heights': 2,\n",
       " 'SEM': 2,\n",
       " 'Temple City': 3}"
      ]
     },
     "execution_count": 19,
     "metadata": {},
     "output_type": "execute_result"
    }
   ],
   "source": [
    "cities_dict = {}\n",
    "for c in location[\"city\"][:20]:\n",
    "    if c in cities_dict.keys():\n",
    "        cities_dict[c] = cities_dict[c] + 1\n",
    "    else:\n",
    "        cities_dict[c] = 1\n",
    "\n",
    "cities_dict"
   ]
  },
  {
   "cell_type": "code",
   "execution_count": 20,
   "metadata": {
    "collapsed": false
   },
   "outputs": [
    {
     "data": {
      "text/plain": [
       "{'Altadena': 2,\n",
       " 'Arcadia': 2,\n",
       " 'Azusa': 1,\n",
       " 'Baldwin Park': 0,\n",
       " 'Claremont': 0,\n",
       " 'Covina': 0,\n",
       " 'Duarte': 2,\n",
       " 'E. Pasadena': 0,\n",
       " 'Hacienda Height': 0,\n",
       " 'Irwindale': 0,\n",
       " 'La Puente': 0,\n",
       " 'La Verne': 1,\n",
       " 'Mt. SAC/Cal Poly/Walnut': 0,\n",
       " 'Pasadena': 1,\n",
       " 'Pomona': 4,\n",
       " 'Rowland Heights': 2,\n",
       " 'S. Pasadena': 0,\n",
       " 'SEM': 2,\n",
       " 'San Diamas': 0,\n",
       " 'Temple City': 3,\n",
       " 'West Covina': 0}"
      ]
     },
     "execution_count": 20,
     "metadata": {},
     "output_type": "execute_result"
    }
   ],
   "source": [
    "all_cities_dict_temp = {}\n",
    "for c in location[\"city\"]:\n",
    "    if c in all_cities_dict_temp.keys():\n",
    "        all_cities_dict_temp[c] = all_cities_dict_temp[c] + 1\n",
    "    else:\n",
    "        all_cities_dict_temp[c] = 1\n",
    "        \n",
    "all_cities_dict = {}\n",
    "all_cities_dict_excluded = {}\n",
    "for entry in all_cities_dict_temp:\n",
    "    if entry in cities_dict.keys():\n",
    "        all_cities_dict[entry] = all_cities_dict_temp[entry]\n",
    "    else:\n",
    "        all_cities_dict_excluded[entry] = all_cities_dict_temp[entry]\n",
    "    \n",
    "for entry in all_cities_dict_excluded:\n",
    "    cities_dict[entry] = 0\n",
    "cities_dict"
   ]
  },
  {
   "cell_type": "code",
   "execution_count": 21,
   "metadata": {
    "collapsed": false
   },
   "outputs": [],
   "source": [
    "c = []\n",
    "perc = []\n",
    "num_locations = []\n",
    "top_20 = []\n",
    "not_top_20 = []\n",
    "for key in cities_dict:\n",
    "    c.append(key)\n",
    "    perc.append(cities_dict[key]/all_cities_dict_temp[key])\n",
    "    num_locations.append(all_cities_dict_temp[key])\n",
    "    top_20.append(cities_dict[key])\n",
    "    not_top_20.append(all_cities_dict_temp[key]-cities_dict[key])"
   ]
  },
  {
   "cell_type": "code",
   "execution_count": 22,
   "metadata": {
    "collapsed": false
   },
   "outputs": [
    {
     "data": {
      "text/html": [
       "<div>\n",
       "<table border=\"1\" class=\"dataframe\">\n",
       "  <thead>\n",
       "    <tr style=\"text-align: right;\">\n",
       "      <th></th>\n",
       "      <th>city</th>\n",
       "      <th>not top 20</th>\n",
       "      <th>num locations</th>\n",
       "      <th>perc</th>\n",
       "      <th>top 20</th>\n",
       "    </tr>\n",
       "  </thead>\n",
       "  <tbody>\n",
       "    <tr>\n",
       "      <th>1</th>\n",
       "      <td>Duarte</td>\n",
       "      <td>6</td>\n",
       "      <td>8</td>\n",
       "      <td>0.250000</td>\n",
       "      <td>2</td>\n",
       "    </tr>\n",
       "    <tr>\n",
       "      <th>8</th>\n",
       "      <td>Altadena</td>\n",
       "      <td>4</td>\n",
       "      <td>6</td>\n",
       "      <td>0.333333</td>\n",
       "      <td>2</td>\n",
       "    </tr>\n",
       "    <tr>\n",
       "      <th>0</th>\n",
       "      <td>Arcadia</td>\n",
       "      <td>3</td>\n",
       "      <td>5</td>\n",
       "      <td>0.400000</td>\n",
       "      <td>2</td>\n",
       "    </tr>\n",
       "    <tr>\n",
       "      <th>2</th>\n",
       "      <td>Pomona</td>\n",
       "      <td>1</td>\n",
       "      <td>5</td>\n",
       "      <td>0.800000</td>\n",
       "      <td>4</td>\n",
       "    </tr>\n",
       "    <tr>\n",
       "      <th>6</th>\n",
       "      <td>Mt. SAC/Cal Poly/Walnut</td>\n",
       "      <td>5</td>\n",
       "      <td>5</td>\n",
       "      <td>0.000000</td>\n",
       "      <td>0</td>\n",
       "    </tr>\n",
       "  </tbody>\n",
       "</table>\n",
       "</div>"
      ],
      "text/plain": [
       "                      city  not top 20  num locations      perc  top 20\n",
       "1                   Duarte           6              8  0.250000       2\n",
       "8                 Altadena           4              6  0.333333       2\n",
       "0                  Arcadia           3              5  0.400000       2\n",
       "2                   Pomona           1              5  0.800000       4\n",
       "6  Mt. SAC/Cal Poly/Walnut           5              5  0.000000       0"
      ]
     },
     "execution_count": 22,
     "metadata": {},
     "output_type": "execute_result"
    }
   ],
   "source": [
    "d = {'city': c, 'num locations': num_locations, 'top 20': top_20, 'not top 20':not_top_20, 'perc':perc}\n",
    "df = pd.DataFrame(data=d)\n",
    "df = df.sort_values(by = ['num locations'], ascending = False)\n",
    "df.head()"
   ]
  },
  {
   "cell_type": "code",
   "execution_count": 23,
   "metadata": {
    "collapsed": false
   },
   "outputs": [
    {
     "data": {
      "image/png": "[encoded data removed]",
      "text/plain": [
       "<Figure size 600x400 with 1 Axes>"
      ]
     },
     "metadata": {},
     "output_type": "display_data"
    }
   ],
   "source": [
    "p1 = plt.bar(df[\"city\"], df[\"not top 20\"])\n",
    "p2 = plt.bar(df[\"city\"], df[\"top 20\"], bottom = df[\"not top 20\"])\n",
    "plt.xlabel('City')\n",
    "plt.ylabel('Number of Locations')\n",
    "plt.xticks(rotation = 90)\n",
    "plt.title('Scores by group and gender')\n",
    "plt.legend((p1[0], p2[0]), ('not top 20', 'top 20'))\n",
    "\n",
    "plt.show()"
   ]
  },
  {
   "cell_type": "markdown",
   "metadata": {
    "collapsed": true
   },
   "source": [
    "Each observation represents the average number of bike riders in a particular location within a 15-minute interval. For each location, the average number of bikers seen in a 15-minute interval was calculated during 1/2017 to 6/2017. There are 67 locations at which observations were taken, and the top 20 locations saw an overall average of 2 bikers for a 15-minute interval. The total number of locations in each city are graphed, with orange indicating the number of locations that are in the top 20. \n",
    "\n",
    "This shows that Temple City and Pomona both have the vast majority of their locations within the top 20 average total bikers. Other cities with multiple locations in the top 20 are SEM, Arcadia, Rowland Heights, Altadena, and Duarte. This analysis does not take into account whether locations are on major streets/intersections, or on quiter neighborhood streets, which could affect results. This gives insight into which cities have more biciclists. "
   ]
  },
  {
   "cell_type": "code",
   "execution_count": null,
   "metadata": {
    "collapsed": true
   },
   "outputs": [],
   "source": []
  }
 ],
 "metadata": {
  "anaconda-cloud": {},
  "kernelspec": {
   "display_name": "Python [Root]",
   "language": "python",
   "name": "Python [Root]"
  },
  "language_info": {
   "codemirror_mode": {
    "name": "ipython",
    "version": 3
   },
   "file_extension": ".py",
   "mimetype": "text/x-python",
   "name": "python",
   "nbconvert_exporter": "python",
   "pygments_lexer": "ipython3",
   "version": "3.5.2"
  }
 },
 "nbformat": 4,
 "nbformat_minor": 2
}
