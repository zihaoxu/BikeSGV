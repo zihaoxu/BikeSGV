{
 "cells": [
  {
   "cell_type": "code",
   "execution_count": 1,
   "metadata": {},
   "outputs": [],
   "source": [
    "import pandas as pd\n",
    "import numpy as np\n",
    "import matplotlib.pyplot as plt\n",
    "import seaborn as sns\n",
    "\n",
    "pd.set_option('max_column', 100)"
   ]
  },
  {
   "cell_type": "code",
   "execution_count": 2,
   "metadata": {},
   "outputs": [],
   "source": [
    "mst_path = '/Users/zihaoxu/R_repos/BikeSGV/datasets/mst/'\n",
    "fig_path = '/Users/zihaoxu/R_repos/BikeSGV/export/02_summary_stats_ped/'"
   ]
  },
  {
   "cell_type": "code",
   "execution_count": 3,
   "metadata": {},
   "outputs": [
    {
     "data": {
      "text/html": [
       "<div>\n",
       "<style scoped>\n",
       "    .dataframe tbody tr th:only-of-type {\n",
       "        vertical-align: middle;\n",
       "    }\n",
       "\n",
       "    .dataframe tbody tr th {\n",
       "        vertical-align: top;\n",
       "    }\n",
       "\n",
       "    .dataframe thead th {\n",
       "        text-align: right;\n",
       "    }\n",
       "</style>\n",
       "<table border=\"1\" class=\"dataframe\">\n",
       "  <thead>\n",
       "    <tr style=\"text-align: right;\">\n",
       "      <th></th>\n",
       "      <th>intervalid</th>\n",
       "      <th>location_id</th>\n",
       "      <th>street1</th>\n",
       "      <th>street2</th>\n",
       "      <th>street3</th>\n",
       "      <th>latitude</th>\n",
       "      <th>longitude</th>\n",
       "      <th>date</th>\n",
       "      <th>weekday</th>\n",
       "      <th>period_begin</th>\n",
       "      <th>period_end</th>\n",
       "      <th>interval_begin</th>\n",
       "      <th>ns</th>\n",
       "      <th>sn</th>\n",
       "      <th>ew</th>\n",
       "      <th>we</th>\n",
       "      <th>specialneeds</th>\n",
       "      <th>skate</th>\n",
       "      <th>child</th>\n",
       "      <th>count_method</th>\n",
       "      <th>raining</th>\n",
       "      <th>unusual</th>\n",
       "      <th>bikewaytype</th>\n",
       "      <th>bikewaytype_options</th>\n",
       "      <th>road_class</th>\n",
       "      <th>speed_limit</th>\n",
       "      <th>landuse</th>\n",
       "      <th>pk_dataset_id</th>\n",
       "      <th>city</th>\n",
       "      <th>createdatetime</th>\n",
       "      <th>total_count</th>\n",
       "      <th>female</th>\n",
       "      <th>cane</th>\n",
       "      <th>dog</th>\n",
       "      <th>on_street</th>\n",
       "    </tr>\n",
       "  </thead>\n",
       "  <tbody>\n",
       "    <tr>\n",
       "      <th>0</th>\n",
       "      <td>17560.0</td>\n",
       "      <td>1025.0</td>\n",
       "      <td>Durfee Ave.</td>\n",
       "      <td>Santa Anita Ave.</td>\n",
       "      <td>Peck Rd.</td>\n",
       "      <td>34.035943</td>\n",
       "      <td>-118.039993</td>\n",
       "      <td>12-03-2016</td>\n",
       "      <td>Saturday</td>\n",
       "      <td>11:00 AM</td>\n",
       "      <td>1:00 AM</td>\n",
       "      <td>11:00 AM</td>\n",
       "      <td>0</td>\n",
       "      <td>0</td>\n",
       "      <td>4</td>\n",
       "      <td>7</td>\n",
       "      <td>0</td>\n",
       "      <td>1</td>\n",
       "      <td>2.0</td>\n",
       "      <td>manual_in_house</td>\n",
       "      <td>no</td>\n",
       "      <td>none</td>\n",
       "      <td>none</td>\n",
       "      <td>none</td>\n",
       "      <td>minorArterial</td>\n",
       "      <td>40.0</td>\n",
       "      <td>neighborhoodRetail</td>\n",
       "      <td>133.0</td>\n",
       "      <td>SEM</td>\n",
       "      <td>2017-07-17 15:08:00</td>\n",
       "      <td>11</td>\n",
       "      <td>0.0</td>\n",
       "      <td>0.0</td>\n",
       "      <td>0.0</td>\n",
       "      <td>0.0</td>\n",
       "    </tr>\n",
       "    <tr>\n",
       "      <th>1</th>\n",
       "      <td>17561.0</td>\n",
       "      <td>1025.0</td>\n",
       "      <td>Durfee Ave.</td>\n",
       "      <td>Santa Anita Ave.</td>\n",
       "      <td>Peck Rd.</td>\n",
       "      <td>34.035943</td>\n",
       "      <td>-118.039993</td>\n",
       "      <td>12-03-2016</td>\n",
       "      <td>Saturday</td>\n",
       "      <td>11:00 AM</td>\n",
       "      <td>1:00 AM</td>\n",
       "      <td>11:15 AM</td>\n",
       "      <td>0</td>\n",
       "      <td>0</td>\n",
       "      <td>0</td>\n",
       "      <td>0</td>\n",
       "      <td>0</td>\n",
       "      <td>0</td>\n",
       "      <td>0.0</td>\n",
       "      <td>manual_in_house</td>\n",
       "      <td>no</td>\n",
       "      <td>none</td>\n",
       "      <td>none</td>\n",
       "      <td>none</td>\n",
       "      <td>minorArterial</td>\n",
       "      <td>40.0</td>\n",
       "      <td>neighborhoodRetail</td>\n",
       "      <td>133.0</td>\n",
       "      <td>SEM</td>\n",
       "      <td>2017-07-17 15:08:00</td>\n",
       "      <td>0</td>\n",
       "      <td>0.0</td>\n",
       "      <td>0.0</td>\n",
       "      <td>0.0</td>\n",
       "      <td>0.0</td>\n",
       "    </tr>\n",
       "    <tr>\n",
       "      <th>2</th>\n",
       "      <td>17562.0</td>\n",
       "      <td>1025.0</td>\n",
       "      <td>Durfee Ave.</td>\n",
       "      <td>Santa Anita Ave.</td>\n",
       "      <td>Peck Rd.</td>\n",
       "      <td>34.035943</td>\n",
       "      <td>-118.039993</td>\n",
       "      <td>12-03-2016</td>\n",
       "      <td>Saturday</td>\n",
       "      <td>11:00 AM</td>\n",
       "      <td>1:00 AM</td>\n",
       "      <td>11:30 AM</td>\n",
       "      <td>0</td>\n",
       "      <td>0</td>\n",
       "      <td>2</td>\n",
       "      <td>5</td>\n",
       "      <td>0</td>\n",
       "      <td>0</td>\n",
       "      <td>0.0</td>\n",
       "      <td>manual_in_house</td>\n",
       "      <td>no</td>\n",
       "      <td>none</td>\n",
       "      <td>none</td>\n",
       "      <td>none</td>\n",
       "      <td>minorArterial</td>\n",
       "      <td>40.0</td>\n",
       "      <td>neighborhoodRetail</td>\n",
       "      <td>133.0</td>\n",
       "      <td>SEM</td>\n",
       "      <td>2017-07-17 15:08:00</td>\n",
       "      <td>7</td>\n",
       "      <td>0.0</td>\n",
       "      <td>0.0</td>\n",
       "      <td>0.0</td>\n",
       "      <td>0.0</td>\n",
       "    </tr>\n",
       "    <tr>\n",
       "      <th>3</th>\n",
       "      <td>17563.0</td>\n",
       "      <td>1025.0</td>\n",
       "      <td>Durfee Ave.</td>\n",
       "      <td>Santa Anita Ave.</td>\n",
       "      <td>Peck Rd.</td>\n",
       "      <td>34.035943</td>\n",
       "      <td>-118.039993</td>\n",
       "      <td>12-03-2016</td>\n",
       "      <td>Saturday</td>\n",
       "      <td>11:00 AM</td>\n",
       "      <td>1:00 AM</td>\n",
       "      <td>11:45 AM</td>\n",
       "      <td>0</td>\n",
       "      <td>0</td>\n",
       "      <td>1</td>\n",
       "      <td>3</td>\n",
       "      <td>0</td>\n",
       "      <td>0</td>\n",
       "      <td>0.0</td>\n",
       "      <td>manual_in_house</td>\n",
       "      <td>no</td>\n",
       "      <td>none</td>\n",
       "      <td>none</td>\n",
       "      <td>none</td>\n",
       "      <td>minorArterial</td>\n",
       "      <td>40.0</td>\n",
       "      <td>neighborhoodRetail</td>\n",
       "      <td>133.0</td>\n",
       "      <td>SEM</td>\n",
       "      <td>2017-07-17 15:08:00</td>\n",
       "      <td>4</td>\n",
       "      <td>0.0</td>\n",
       "      <td>0.0</td>\n",
       "      <td>0.0</td>\n",
       "      <td>0.0</td>\n",
       "    </tr>\n",
       "    <tr>\n",
       "      <th>4</th>\n",
       "      <td>17564.0</td>\n",
       "      <td>1025.0</td>\n",
       "      <td>Durfee Ave.</td>\n",
       "      <td>Santa Anita Ave.</td>\n",
       "      <td>Peck Rd.</td>\n",
       "      <td>34.035943</td>\n",
       "      <td>-118.039993</td>\n",
       "      <td>12-03-2016</td>\n",
       "      <td>Saturday</td>\n",
       "      <td>11:00 AM</td>\n",
       "      <td>1:00 AM</td>\n",
       "      <td>12:00 PM</td>\n",
       "      <td>0</td>\n",
       "      <td>0</td>\n",
       "      <td>1</td>\n",
       "      <td>0</td>\n",
       "      <td>0</td>\n",
       "      <td>0</td>\n",
       "      <td>0.0</td>\n",
       "      <td>manual_in_house</td>\n",
       "      <td>no</td>\n",
       "      <td>none</td>\n",
       "      <td>none</td>\n",
       "      <td>none</td>\n",
       "      <td>minorArterial</td>\n",
       "      <td>40.0</td>\n",
       "      <td>neighborhoodRetail</td>\n",
       "      <td>133.0</td>\n",
       "      <td>SEM</td>\n",
       "      <td>2017-07-17 15:08:00</td>\n",
       "      <td>1</td>\n",
       "      <td>0.0</td>\n",
       "      <td>0.0</td>\n",
       "      <td>0.0</td>\n",
       "      <td>0.0</td>\n",
       "    </tr>\n",
       "  </tbody>\n",
       "</table>\n",
       "</div>"
      ],
      "text/plain": [
       "   intervalid  location_id       street1           street2    street3  \\\n",
       "0     17560.0       1025.0  Durfee Ave.   Santa Anita Ave.  Peck Rd.    \n",
       "1     17561.0       1025.0  Durfee Ave.   Santa Anita Ave.  Peck Rd.    \n",
       "2     17562.0       1025.0  Durfee Ave.   Santa Anita Ave.  Peck Rd.    \n",
       "3     17563.0       1025.0  Durfee Ave.   Santa Anita Ave.  Peck Rd.    \n",
       "4     17564.0       1025.0  Durfee Ave.   Santa Anita Ave.  Peck Rd.    \n",
       "\n",
       "    latitude   longitude        date   weekday period_begin period_end  \\\n",
       "0  34.035943 -118.039993  12-03-2016  Saturday     11:00 AM    1:00 AM   \n",
       "1  34.035943 -118.039993  12-03-2016  Saturday     11:00 AM    1:00 AM   \n",
       "2  34.035943 -118.039993  12-03-2016  Saturday     11:00 AM    1:00 AM   \n",
       "3  34.035943 -118.039993  12-03-2016  Saturday     11:00 AM    1:00 AM   \n",
       "4  34.035943 -118.039993  12-03-2016  Saturday     11:00 AM    1:00 AM   \n",
       "\n",
       "  interval_begin  ns  sn  ew  we  specialneeds  skate  child     count_method  \\\n",
       "0       11:00 AM   0   0   4   7             0      1    2.0  manual_in_house   \n",
       "1       11:15 AM   0   0   0   0             0      0    0.0  manual_in_house   \n",
       "2       11:30 AM   0   0   2   5             0      0    0.0  manual_in_house   \n",
       "3       11:45 AM   0   0   1   3             0      0    0.0  manual_in_house   \n",
       "4       12:00 PM   0   0   1   0             0      0    0.0  manual_in_house   \n",
       "\n",
       "  raining unusual bikewaytype bikewaytype_options     road_class  speed_limit  \\\n",
       "0      no    none        none                none  minorArterial         40.0   \n",
       "1      no    none        none                none  minorArterial         40.0   \n",
       "2      no    none        none                none  minorArterial         40.0   \n",
       "3      no    none        none                none  minorArterial         40.0   \n",
       "4      no    none        none                none  minorArterial         40.0   \n",
       "\n",
       "              landuse  pk_dataset_id city       createdatetime  total_count  \\\n",
       "0  neighborhoodRetail          133.0  SEM  2017-07-17 15:08:00           11   \n",
       "1  neighborhoodRetail          133.0  SEM  2017-07-17 15:08:00            0   \n",
       "2  neighborhoodRetail          133.0  SEM  2017-07-17 15:08:00            7   \n",
       "3  neighborhoodRetail          133.0  SEM  2017-07-17 15:08:00            4   \n",
       "4  neighborhoodRetail          133.0  SEM  2017-07-17 15:08:00            1   \n",
       "\n",
       "   female  cane  dog  on_street  \n",
       "0     0.0   0.0  0.0        0.0  \n",
       "1     0.0   0.0  0.0        0.0  \n",
       "2     0.0   0.0  0.0        0.0  \n",
       "3     0.0   0.0  0.0        0.0  \n",
       "4     0.0   0.0  0.0        0.0  "
      ]
     },
     "execution_count": 3,
     "metadata": {},
     "output_type": "execute_result"
    }
   ],
   "source": [
    "df = pd.read_csv(mst_path + 'clean_ped.csv')\n",
    "df.head()"
   ]
  },
  {
   "cell_type": "markdown",
   "metadata": {},
   "source": [
    "# Identify problems with `date` and its distribution"
   ]
  },
  {
   "cell_type": "markdown",
   "metadata": {},
   "source": [
    "Explore the data types of each column. Notice that the time column \"date\" is of type \"object\". Let's change that to datetime "
   ]
  },
  {
   "cell_type": "code",
   "execution_count": 4,
   "metadata": {},
   "outputs": [
    {
     "data": {
      "text/plain": [
       "dtype('O')"
      ]
     },
     "execution_count": 4,
     "metadata": {},
     "output_type": "execute_result"
    }
   ],
   "source": [
    "df.dtypes['date']"
   ]
  },
  {
   "cell_type": "code",
   "execution_count": 5,
   "metadata": {},
   "outputs": [
    {
     "data": {
      "text/plain": [
       "dtype('<M8[ns]')"
      ]
     },
     "execution_count": 5,
     "metadata": {},
     "output_type": "execute_result"
    }
   ],
   "source": [
    "df['date'] = pd.to_datetime(df['date'])\n",
    "df.dtypes['date']"
   ]
  },
  {
   "cell_type": "code",
   "execution_count": 6,
   "metadata": {},
   "outputs": [
    {
     "name": "stdout",
     "output_type": "stream",
     "text": [
      "Number of nans in the date column: 24\n"
     ]
    },
    {
     "data": {
      "text/plain": [
       "(2624, 35)"
      ]
     },
     "execution_count": 6,
     "metadata": {},
     "output_type": "execute_result"
    }
   ],
   "source": [
    "# Observe that there are some nan values in the column date. We drop these rows\n",
    "print(\"Number of nans in the date column:\", df.isna().sum()['date'])\n",
    "df = df.dropna(subset = ['date'])\n",
    "df.index = range(len(df))\n",
    "df.shape"
   ]
  },
  {
   "cell_type": "code",
   "execution_count": 7,
   "metadata": {},
   "outputs": [
    {
     "data": {
      "text/plain": [
       "2017-4     512\n",
       "2017-6     280\n",
       "2017-5     264\n",
       "2016-4     240\n",
       "2016-5     208\n",
       "2016-12    208\n",
       "2016-10    184\n",
       "2017-3     144\n",
       "2017-1     144\n",
       "2017-2     128\n",
       "2016-11    112\n",
       "2017-7      56\n",
       "2016-9      56\n",
       "2018-1      32\n",
       "2016-8      24\n",
       "2018-7      24\n",
       "2017-8       8\n",
       "Name: yr_mo, dtype: int64"
      ]
     },
     "execution_count": 7,
     "metadata": {},
     "output_type": "execute_result"
    }
   ],
   "source": [
    "# Explore the number of observations per year_month combinatino for the dataset\n",
    "df['month'] = df['date'].apply(lambda x: x.month)\n",
    "df['year'] = df['date'].apply(lambda x: int(x.year))\n",
    "df['yr_mo'] = [str(a)+'-'+str(b) for a,b in zip(df['year'], df['month'])]\n",
    "df['yr_mo'].value_counts()"
   ]
  },
  {
   "cell_type": "markdown",
   "metadata": {},
   "source": [
    "It seems that 2017-01 to 2017-06 has most of the data points, so we focus on this period only. Note that you can totally make other assumptions and subset the data in another way! This is just what I am doing here."
   ]
  },
  {
   "cell_type": "code",
   "execution_count": 8,
   "metadata": {},
   "outputs": [
    {
     "name": "stdout",
     "output_type": "stream",
     "text": [
      "time_range ['2017-1', '2017-2', '2017-3', '2017-4', '2017-5', '2017-6']\n"
     ]
    },
    {
     "data": {
      "text/plain": [
       "(1472, 38)"
      ]
     },
     "execution_count": 8,
     "metadata": {},
     "output_type": "execute_result"
    }
   ],
   "source": [
    "# Subset the data for only this time range:\n",
    "time_range = ['2017-' + str(i) for i in range(1,7)]\n",
    "print(\"time_range\", time_range)\n",
    "\n",
    "# Subset the data and check how many obs. are left\n",
    "df = df[df['yr_mo'].isin(time_range)]\n",
    "df.shape"
   ]
  },
  {
   "cell_type": "markdown",
   "metadata": {},
   "source": [
    "# Temporal Trend of Total Counts"
   ]
  },
  {
   "cell_type": "markdown",
   "metadata": {},
   "source": [
    "In order to explore any trends, we need to aggregate the data somehow. For example, assume we want to group by `date` and find the `sum` and `mean` of the variable `total_count` on each day, we could use the `groupby` and `agg` functions to achieve this.\n",
    "\n",
    "Also try play around with \n",
    "```\n",
    "grouped = df.groupby('date').agg(['sum', 'mean']).reset_index()\n",
    "grouped.head()\n",
    "```"
   ]
  },
  {
   "cell_type": "code",
   "execution_count": 9,
   "metadata": {},
   "outputs": [
    {
     "data": {
      "text/html": [
       "<div>\n",
       "<style scoped>\n",
       "    .dataframe tbody tr th:only-of-type {\n",
       "        vertical-align: middle;\n",
       "    }\n",
       "\n",
       "    .dataframe tbody tr th {\n",
       "        vertical-align: top;\n",
       "    }\n",
       "\n",
       "    .dataframe thead th {\n",
       "        text-align: right;\n",
       "    }\n",
       "</style>\n",
       "<table border=\"1\" class=\"dataframe\">\n",
       "  <thead>\n",
       "    <tr style=\"text-align: right;\">\n",
       "      <th></th>\n",
       "      <th>date</th>\n",
       "      <th>sum</th>\n",
       "      <th>mean</th>\n",
       "    </tr>\n",
       "  </thead>\n",
       "  <tbody>\n",
       "    <tr>\n",
       "      <th>0</th>\n",
       "      <td>2017-01-10</td>\n",
       "      <td>16</td>\n",
       "      <td>1.0000</td>\n",
       "    </tr>\n",
       "    <tr>\n",
       "      <th>1</th>\n",
       "      <td>2017-01-15</td>\n",
       "      <td>53</td>\n",
       "      <td>3.3125</td>\n",
       "    </tr>\n",
       "    <tr>\n",
       "      <th>2</th>\n",
       "      <td>2017-01-17</td>\n",
       "      <td>51</td>\n",
       "      <td>3.1875</td>\n",
       "    </tr>\n",
       "    <tr>\n",
       "      <th>3</th>\n",
       "      <td>2017-01-24</td>\n",
       "      <td>161</td>\n",
       "      <td>10.0625</td>\n",
       "    </tr>\n",
       "    <tr>\n",
       "      <th>4</th>\n",
       "      <td>2017-01-26</td>\n",
       "      <td>90</td>\n",
       "      <td>11.2500</td>\n",
       "    </tr>\n",
       "  </tbody>\n",
       "</table>\n",
       "</div>"
      ],
      "text/plain": [
       "        date  sum     mean\n",
       "0 2017-01-10   16   1.0000\n",
       "1 2017-01-15   53   3.3125\n",
       "2 2017-01-17   51   3.1875\n",
       "3 2017-01-24  161  10.0625\n",
       "4 2017-01-26   90  11.2500"
      ]
     },
     "execution_count": 9,
     "metadata": {},
     "output_type": "execute_result"
    }
   ],
   "source": [
    "grouped = df.groupby('date').agg(['sum', 'mean'])['total_count'].reset_index()\n",
    "grouped.head()"
   ]
  },
  {
   "cell_type": "markdown",
   "metadata": {},
   "source": [
    "Let's try plotting the average total count per day. Note that this doesn't tell us anything useful, as we did not take into account the number of volunteers availabe!! Try deleting or adding back the last few functions (`plt.xticks`, `plt.xlabel`) and observe the difference. "
   ]
  },
  {
   "cell_type": "code",
   "execution_count": 10,
   "metadata": {},
   "outputs": [
    {
     "data": {
      "text/plain": [
       "Text(0.5,1,'Average total_count by date')"
      ]
     },
     "execution_count": 10,
     "metadata": {},
     "output_type": "execute_result"
    },
    {
     "data": {
      "image/png": "[encoded data removed]",
      "text/plain": [
       "<matplotlib.figure.Figure at 0x11bbc38d0>"
      ]
     },
     "metadata": {},
     "output_type": "display_data"
    }
   ],
   "source": [
    "plt.plot(grouped['date'], grouped['mean'])\n",
    "plt.xticks(rotation = 30)\n",
    "plt.xlabel('Date')\n",
    "plt.ylabel('Average total_count')\n",
    "plt.title(\"Average total_count by date\")"
   ]
  },
  {
   "cell_type": "markdown",
   "metadata": {},
   "source": [
    "Assume we only want to look at two cities, we could subset the datasets and do the same thing as above. Note that the below commands examines the two cities with most number of observations."
   ]
  },
  {
   "cell_type": "code",
   "execution_count": 11,
   "metadata": {},
   "outputs": [
    {
     "data": {
      "text/plain": [
       "Duarte                     168\n",
       "Altadena                   144\n",
       "Mt. SAC/Cal Poly/Walnut    128\n",
       "Pomona                     104\n",
       "Arcadia                     96\n",
       "Name: city, dtype: int64"
      ]
     },
     "execution_count": 11,
     "metadata": {},
     "output_type": "execute_result"
    }
   ],
   "source": [
    "# Find which cities has most number of observations\n",
    "cities = df['city'].value_counts().sort_values(ascending = False)\n",
    "cities.head()"
   ]
  },
  {
   "cell_type": "code",
   "execution_count": 12,
   "metadata": {},
   "outputs": [
    {
     "data": {
      "text/plain": [
       "Index(['Duarte', 'Altadena'], dtype='object')"
      ]
     },
     "execution_count": 12,
     "metadata": {},
     "output_type": "execute_result"
    }
   ],
   "source": [
    "# Extract the two top cities:\n",
    "top_cities = cities.index[:2]\n",
    "top_cities"
   ]
  },
  {
   "cell_type": "code",
   "execution_count": 13,
   "metadata": {},
   "outputs": [
    {
     "name": "stdout",
     "output_type": "stream",
     "text": [
      "(168, 38)\n",
      "(144, 38)\n"
     ]
    }
   ],
   "source": [
    "# We will proceed with Glendora and SEM\n",
    "gle = df[df['city'] == top_cities[0]]\n",
    "sem = df[df['city'] == top_cities[1]]\n",
    "print(gle.shape)\n",
    "print(sem.shape)"
   ]
  },
  {
   "cell_type": "code",
   "execution_count": 14,
   "metadata": {},
   "outputs": [
    {
     "data": {
      "text/html": [
       "<div>\n",
       "<style scoped>\n",
       "    .dataframe tbody tr th:only-of-type {\n",
       "        vertical-align: middle;\n",
       "    }\n",
       "\n",
       "    .dataframe tbody tr th {\n",
       "        vertical-align: top;\n",
       "    }\n",
       "\n",
       "    .dataframe thead th {\n",
       "        text-align: right;\n",
       "    }\n",
       "</style>\n",
       "<table border=\"1\" class=\"dataframe\">\n",
       "  <thead>\n",
       "    <tr style=\"text-align: right;\">\n",
       "      <th></th>\n",
       "      <th>date</th>\n",
       "      <th>sum</th>\n",
       "      <th>mean</th>\n",
       "    </tr>\n",
       "  </thead>\n",
       "  <tbody>\n",
       "    <tr>\n",
       "      <th>0</th>\n",
       "      <td>2017-01-24</td>\n",
       "      <td>161</td>\n",
       "      <td>10.062500</td>\n",
       "    </tr>\n",
       "    <tr>\n",
       "      <th>1</th>\n",
       "      <td>2017-01-26</td>\n",
       "      <td>90</td>\n",
       "      <td>11.250000</td>\n",
       "    </tr>\n",
       "    <tr>\n",
       "      <th>2</th>\n",
       "      <td>2017-01-28</td>\n",
       "      <td>112</td>\n",
       "      <td>14.000000</td>\n",
       "    </tr>\n",
       "    <tr>\n",
       "      <th>3</th>\n",
       "      <td>2017-01-31</td>\n",
       "      <td>21</td>\n",
       "      <td>2.625000</td>\n",
       "    </tr>\n",
       "    <tr>\n",
       "      <th>4</th>\n",
       "      <td>2017-02-02</td>\n",
       "      <td>86</td>\n",
       "      <td>3.583333</td>\n",
       "    </tr>\n",
       "    <tr>\n",
       "      <th>5</th>\n",
       "      <td>2017-04-01</td>\n",
       "      <td>591</td>\n",
       "      <td>36.937500</td>\n",
       "    </tr>\n",
       "    <tr>\n",
       "      <th>6</th>\n",
       "      <td>2017-04-04</td>\n",
       "      <td>361</td>\n",
       "      <td>15.041667</td>\n",
       "    </tr>\n",
       "    <tr>\n",
       "      <th>7</th>\n",
       "      <td>2017-04-11</td>\n",
       "      <td>135</td>\n",
       "      <td>8.437500</td>\n",
       "    </tr>\n",
       "    <tr>\n",
       "      <th>8</th>\n",
       "      <td>2017-04-13</td>\n",
       "      <td>80</td>\n",
       "      <td>5.000000</td>\n",
       "    </tr>\n",
       "    <tr>\n",
       "      <th>9</th>\n",
       "      <td>2017-04-18</td>\n",
       "      <td>52</td>\n",
       "      <td>3.250000</td>\n",
       "    </tr>\n",
       "    <tr>\n",
       "      <th>10</th>\n",
       "      <td>2017-05-13</td>\n",
       "      <td>18</td>\n",
       "      <td>2.250000</td>\n",
       "    </tr>\n",
       "    <tr>\n",
       "      <th>11</th>\n",
       "      <td>2017-05-27</td>\n",
       "      <td>41</td>\n",
       "      <td>5.125000</td>\n",
       "    </tr>\n",
       "  </tbody>\n",
       "</table>\n",
       "</div>"
      ],
      "text/plain": [
       "         date  sum       mean\n",
       "0  2017-01-24  161  10.062500\n",
       "1  2017-01-26   90  11.250000\n",
       "2  2017-01-28  112  14.000000\n",
       "3  2017-01-31   21   2.625000\n",
       "4  2017-02-02   86   3.583333\n",
       "5  2017-04-01  591  36.937500\n",
       "6  2017-04-04  361  15.041667\n",
       "7  2017-04-11  135   8.437500\n",
       "8  2017-04-13   80   5.000000\n",
       "9  2017-04-18   52   3.250000\n",
       "10 2017-05-13   18   2.250000\n",
       "11 2017-05-27   41   5.125000"
      ]
     },
     "execution_count": 14,
     "metadata": {},
     "output_type": "execute_result"
    }
   ],
   "source": [
    "# Perform the same groupby commands\n",
    "gle_group = gle.groupby('date').agg(['sum', 'mean'])['total_count'].reset_index()\n",
    "sem_group = sem.groupby('date').agg(['sum', 'mean'])['total_count'].reset_index()\n",
    "gle_group"
   ]
  },
  {
   "cell_type": "code",
   "execution_count": 15,
   "metadata": {},
   "outputs": [
    {
     "data": {
      "text/plain": [
       "Text(0.5,1,'Average total_count by date')"
      ]
     },
     "execution_count": 15,
     "metadata": {},
     "output_type": "execute_result"
    },
    {
     "data": {
      "image/png": "[encoded data removed]",
      "text/plain": [
       "<matplotlib.figure.Figure at 0x11bc7d438>"
      ]
     },
     "metadata": {},
     "output_type": "display_data"
    }
   ],
   "source": [
    "# Do the same time plot\n",
    "plt.plot(gle_group['date'], gle_group['mean'], color = 'red', label = top_cities[0])\n",
    "plt.plot(sem_group['date'], sem_group['mean'], color = 'green', label = top_cities[1])\n",
    "plt.xticks(rotation = 30)\n",
    "plt.legend()\n",
    "plt.xlabel('Date')\n",
    "plt.ylabel('Average total_count')\n",
    "plt.title(\"Average total_count by date\")"
   ]
  },
  {
   "cell_type": "markdown",
   "metadata": {},
   "source": [
    "Gotta say this looks pretty bad... Now try select cities with most number of dates"
   ]
  },
  {
   "cell_type": "code",
   "execution_count": 16,
   "metadata": {},
   "outputs": [
    {
     "data": {
      "text/plain": [
       "city\n",
       "Altadena                   12\n",
       "Duarte                     12\n",
       "Mt. SAC/Cal Poly/Walnut     8\n",
       "E. Pasadena                 7\n",
       "Rowland Heights             7\n",
       "Name: date, dtype: int64"
      ]
     },
     "execution_count": 16,
     "metadata": {},
     "output_type": "execute_result"
    }
   ],
   "source": [
    "city_ndate = df.groupby('city')['date'].nunique().sort_values(ascending = False)\n",
    "city_ndate.head()"
   ]
  },
  {
   "cell_type": "markdown",
   "metadata": {},
   "source": [
    "Now you could perform the same analysis as above on these cities. I will not repeat that again."
   ]
  },
  {
   "cell_type": "markdown",
   "metadata": {},
   "source": [
    "# Temporal Trends of One Variable"
   ]
  },
  {
   "cell_type": "code",
   "execution_count": 17,
   "metadata": {},
   "outputs": [
    {
     "name": "stdout",
     "output_type": "stream",
     "text": [
      "(51, 2)\n",
      "(51, 2)\n"
     ]
    },
    {
     "data": {
      "text/html": [
       "<div>\n",
       "<style scoped>\n",
       "    .dataframe tbody tr th:only-of-type {\n",
       "        vertical-align: middle;\n",
       "    }\n",
       "\n",
       "    .dataframe tbody tr th {\n",
       "        vertical-align: top;\n",
       "    }\n",
       "\n",
       "    .dataframe thead th {\n",
       "        text-align: right;\n",
       "    }\n",
       "</style>\n",
       "<table border=\"1\" class=\"dataframe\">\n",
       "  <thead>\n",
       "    <tr style=\"text-align: right;\">\n",
       "      <th></th>\n",
       "      <th>date</th>\n",
       "      <th>sum</th>\n",
       "    </tr>\n",
       "  </thead>\n",
       "  <tbody>\n",
       "    <tr>\n",
       "      <th>0</th>\n",
       "      <td>2017-01-10</td>\n",
       "      <td>0.0</td>\n",
       "    </tr>\n",
       "    <tr>\n",
       "      <th>1</th>\n",
       "      <td>2017-01-15</td>\n",
       "      <td>0.0</td>\n",
       "    </tr>\n",
       "    <tr>\n",
       "      <th>2</th>\n",
       "      <td>2017-01-17</td>\n",
       "      <td>0.0</td>\n",
       "    </tr>\n",
       "    <tr>\n",
       "      <th>3</th>\n",
       "      <td>2017-01-24</td>\n",
       "      <td>0.0</td>\n",
       "    </tr>\n",
       "    <tr>\n",
       "      <th>4</th>\n",
       "      <td>2017-01-26</td>\n",
       "      <td>0.0</td>\n",
       "    </tr>\n",
       "  </tbody>\n",
       "</table>\n",
       "</div>"
      ],
      "text/plain": [
       "        date  sum\n",
       "0 2017-01-10  0.0\n",
       "1 2017-01-15  0.0\n",
       "2 2017-01-17  0.0\n",
       "3 2017-01-24  0.0\n",
       "4 2017-01-26  0.0"
      ]
     },
     "execution_count": 17,
     "metadata": {},
     "output_type": "execute_result"
    }
   ],
   "source": [
    "# Create two time series - female and total\n",
    "female = df.groupby('date').agg(['sum'])['female'].reset_index()\n",
    "total = df.groupby('date').agg(['sum'])['total_count'].reset_index()\n",
    "print(female.shape)\n",
    "print(total.shape)\n",
    "\n",
    "female.head()"
   ]
  },
  {
   "cell_type": "code",
   "execution_count": 18,
   "metadata": {},
   "outputs": [
    {
     "data": {
      "text/plain": [
       "(51, 3)"
      ]
     },
     "execution_count": 18,
     "metadata": {},
     "output_type": "execute_result"
    }
   ],
   "source": [
    "# We change the columns and merge these two datasets together\n",
    "female.columns = ['date', 'female']\n",
    "total.columns = ['date', 'total_count']\n",
    "\n",
    "merged = pd.merge(female, total, on = 'date', how = 'inner')\n",
    "merged.shape"
   ]
  },
  {
   "cell_type": "code",
   "execution_count": 19,
   "metadata": {},
   "outputs": [
    {
     "data": {
      "text/html": [
       "<div>\n",
       "<style scoped>\n",
       "    .dataframe tbody tr th:only-of-type {\n",
       "        vertical-align: middle;\n",
       "    }\n",
       "\n",
       "    .dataframe tbody tr th {\n",
       "        vertical-align: top;\n",
       "    }\n",
       "\n",
       "    .dataframe thead th {\n",
       "        text-align: right;\n",
       "    }\n",
       "</style>\n",
       "<table border=\"1\" class=\"dataframe\">\n",
       "  <thead>\n",
       "    <tr style=\"text-align: right;\">\n",
       "      <th></th>\n",
       "      <th>date</th>\n",
       "      <th>female</th>\n",
       "      <th>total_count</th>\n",
       "    </tr>\n",
       "  </thead>\n",
       "  <tbody>\n",
       "    <tr>\n",
       "      <th>0</th>\n",
       "      <td>2017-01-10</td>\n",
       "      <td>0.0</td>\n",
       "      <td>16</td>\n",
       "    </tr>\n",
       "    <tr>\n",
       "      <th>1</th>\n",
       "      <td>2017-01-15</td>\n",
       "      <td>0.0</td>\n",
       "      <td>53</td>\n",
       "    </tr>\n",
       "    <tr>\n",
       "      <th>2</th>\n",
       "      <td>2017-01-17</td>\n",
       "      <td>0.0</td>\n",
       "      <td>51</td>\n",
       "    </tr>\n",
       "    <tr>\n",
       "      <th>3</th>\n",
       "      <td>2017-01-24</td>\n",
       "      <td>0.0</td>\n",
       "      <td>161</td>\n",
       "    </tr>\n",
       "    <tr>\n",
       "      <th>4</th>\n",
       "      <td>2017-01-26</td>\n",
       "      <td>0.0</td>\n",
       "      <td>90</td>\n",
       "    </tr>\n",
       "  </tbody>\n",
       "</table>\n",
       "</div>"
      ],
      "text/plain": [
       "        date  female  total_count\n",
       "0 2017-01-10     0.0           16\n",
       "1 2017-01-15     0.0           53\n",
       "2 2017-01-17     0.0           51\n",
       "3 2017-01-24     0.0          161\n",
       "4 2017-01-26     0.0           90"
      ]
     },
     "execution_count": 19,
     "metadata": {},
     "output_type": "execute_result"
    }
   ],
   "source": [
    "merged.head()"
   ]
  },
  {
   "cell_type": "code",
   "execution_count": 20,
   "metadata": {},
   "outputs": [
    {
     "data": {
      "text/html": [
       "<div>\n",
       "<style scoped>\n",
       "    .dataframe tbody tr th:only-of-type {\n",
       "        vertical-align: middle;\n",
       "    }\n",
       "\n",
       "    .dataframe tbody tr th {\n",
       "        vertical-align: top;\n",
       "    }\n",
       "\n",
       "    .dataframe thead th {\n",
       "        text-align: right;\n",
       "    }\n",
       "</style>\n",
       "<table border=\"1\" class=\"dataframe\">\n",
       "  <thead>\n",
       "    <tr style=\"text-align: right;\">\n",
       "      <th></th>\n",
       "      <th>date</th>\n",
       "      <th>female</th>\n",
       "      <th>total_count</th>\n",
       "      <th>female_perc</th>\n",
       "    </tr>\n",
       "  </thead>\n",
       "  <tbody>\n",
       "    <tr>\n",
       "      <th>0</th>\n",
       "      <td>2017-01-10</td>\n",
       "      <td>0.0</td>\n",
       "      <td>16</td>\n",
       "      <td>0.0</td>\n",
       "    </tr>\n",
       "    <tr>\n",
       "      <th>1</th>\n",
       "      <td>2017-01-15</td>\n",
       "      <td>0.0</td>\n",
       "      <td>53</td>\n",
       "      <td>0.0</td>\n",
       "    </tr>\n",
       "    <tr>\n",
       "      <th>2</th>\n",
       "      <td>2017-01-17</td>\n",
       "      <td>0.0</td>\n",
       "      <td>51</td>\n",
       "      <td>0.0</td>\n",
       "    </tr>\n",
       "    <tr>\n",
       "      <th>3</th>\n",
       "      <td>2017-01-24</td>\n",
       "      <td>0.0</td>\n",
       "      <td>161</td>\n",
       "      <td>0.0</td>\n",
       "    </tr>\n",
       "    <tr>\n",
       "      <th>4</th>\n",
       "      <td>2017-01-26</td>\n",
       "      <td>0.0</td>\n",
       "      <td>90</td>\n",
       "      <td>0.0</td>\n",
       "    </tr>\n",
       "  </tbody>\n",
       "</table>\n",
       "</div>"
      ],
      "text/plain": [
       "        date  female  total_count  female_perc\n",
       "0 2017-01-10     0.0           16          0.0\n",
       "1 2017-01-15     0.0           53          0.0\n",
       "2 2017-01-17     0.0           51          0.0\n",
       "3 2017-01-24     0.0          161          0.0\n",
       "4 2017-01-26     0.0           90          0.0"
      ]
     },
     "execution_count": 20,
     "metadata": {},
     "output_type": "execute_result"
    }
   ],
   "source": [
    "# Explore female percentage changes - create a new column called female_perc\n",
    "merged['female_perc'] = merged['female'] / merged['total_count']\n",
    "merged.head()"
   ]
  },
  {
   "cell_type": "code",
   "execution_count": 21,
   "metadata": {
    "scrolled": false
   },
   "outputs": [
    {
     "data": {
      "text/plain": [
       "Text(0,0.5,'Female Percentage')"
      ]
     },
     "execution_count": 21,
     "metadata": {},
     "output_type": "execute_result"
    },
    {
     "data": {
      "image/png": "[encoded data removed]",
      "text/plain": [
       "<matplotlib.figure.Figure at 0x11bd86898>"
      ]
     },
     "metadata": {},
     "output_type": "display_data"
    }
   ],
   "source": [
    "# Naive time plot \n",
    "plt.plot(merged['date'], merged['female_perc'])\n",
    "plt.xticks(rotation = 30)\n",
    "plt.xlabel('Time')\n",
    "plt.ylabel('Female Percentage')"
   ]
  },
  {
   "cell_type": "markdown",
   "metadata": {},
   "source": [
    "## Notice that the curve remained 0 for a long time, this is probably that the female data is not collected on this time period."
   ]
  },
  {
   "cell_type": "code",
   "execution_count": null,
   "metadata": {
    "scrolled": false
   },
   "outputs": [],
   "source": []
  }
 ],
 "metadata": {
  "kernelspec": {
   "display_name": "Python 3",
   "language": "python",
   "name": "python3"
  },
  "language_info": {
   "codemirror_mode": {
    "name": "ipython",
    "version": 3
   },
   "file_extension": ".py",
   "mimetype": "text/x-python",
   "name": "python",
   "nbconvert_exporter": "python",
   "pygments_lexer": "ipython3",
   "version": "3.6.6"
  }
 },
 "nbformat": 4,
 "nbformat_minor": 2
}
